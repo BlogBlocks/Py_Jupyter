{
 "cells": [
  {
   "cell_type": "markdown",
   "metadata": {},
   "source": [
    "# 10 Pandas\n",
    "\n",
    "- Pandas stands for Python Data Analysis Library or \"panel data\" (multidimensional, structured data sets)\n",
    "- Data analysis and modeling\n",
    "- Supports manipulating numerical tables and time series\n",
    "- Focuses on linear and panel regression\n",
    "- Other libraries such as statsmodels and scikit-learn go beyond simple regression\n",
    "- DataFrame supports data manipulation and indexing\n",
    "- Reading/writing data files\n",
    "- Reshaping and pivoting of data sets\n",
    "- Slicing/indexing/subsetting large data sets\n",
    "- Column insertion and deletion\n",
    "- Group by support for g split-apply-combine operations\n",
    "- Data set merging and joining\n",
    "- Hierarchical axis indexing for dimensional reduction\n",
    "- Time series support: frequency conversion, moving window statistics, date shifting and lagging\n",
    "\n",
    "```conda install pandas```\n",
    "\n",
    "See: https://pandas.pydata.org/pandas-docs/stable/10min.html\n",
    "\n",
    "Install:\n",
    "\n",
    "```conda install pandas```\n",
    "or\n",
    "```pip install pandas```"
   ]
  },
  {
   "cell_type": "markdown",
   "metadata": {},
   "source": [
    "## Pandas Docs"
   ]
  },
  {
   "cell_type": "markdown",
   "metadata": {
    "collapsed": true
   },
   "source": [
    "Pandas deals with three main data structures\n",
    "- **DataFrame** General 3D labeled size-mutable array\n",
    "- **Panel** General 2D labeled size-mutable tabular structure allowing heterogeneously type columns\n",
    "- **Series** 1D labeled homogeneous sizeimmutable array"
   ]
  },
  {
   "cell_type": "markdown",
   "metadata": {},
   "source": [
    "## Python For Data Science Cheat Sheet\n",
    "\n",
    "See: https://s3.amazonaws.com/assets.datacamp.com/blog_assets/PandasPythonForDataScience.pdf"
   ]
  },
  {
   "cell_type": "code",
   "execution_count": 4,
   "metadata": {},
   "outputs": [
    {
     "name": "stdout",
     "output_type": "stream",
     "text": [
      "Help on property:\n",
      "\n",
      "    Purely label-location based indexer for selection by label.\n",
      "    \n",
      "    ``.loc[]`` is primarily label based, but may also be used with a\n",
      "    boolean array.\n",
      "    \n",
      "    Allowed inputs are:\n",
      "    \n",
      "    - A single label, e.g. ``5`` or ``'a'``, (note that ``5`` is\n",
      "      interpreted as a *label* of the index, and **never** as an\n",
      "      integer position along the index).\n",
      "    - A list or array of labels, e.g. ``['a', 'b', 'c']``.\n",
      "    - A slice object with labels, e.g. ``'a':'f'`` (note that contrary\n",
      "      to usual python slices, **both** the start and the stop are included!).\n",
      "    - A boolean array.\n",
      "    - A ``callable`` function with one argument (the calling Series, DataFrame\n",
      "      or Panel) and that returns valid output for indexing (one of the above)\n",
      "    \n",
      "    ``.loc`` will raise a ``KeyError`` when the items are not found.\n",
      "    \n",
      "    See more at :ref:`Selection by Label <indexing.label>`\n",
      "\n"
     ]
    },
    {
     "ename": "NameError",
     "evalue": "name 's3' is not defined",
     "output_type": "error",
     "traceback": [
      "\u001b[1;31m---------------------------------------------------------------------------\u001b[0m",
      "\u001b[1;31mNameError\u001b[0m                                 Traceback (most recent call last)",
      "\u001b[1;32m<ipython-input-4-0a091a40e503>\u001b[0m in \u001b[0;36m<module>\u001b[1;34m()\u001b[0m\n\u001b[0;32m     10\u001b[0m \u001b[0ms\u001b[0m\u001b[1;33m[\u001b[0m\u001b[1;34m'b'\u001b[0m\u001b[1;33m]\u001b[0m \u001b[1;31m# Get one element\u001b[0m\u001b[1;33m\u001b[0m\u001b[0m\n\u001b[0;32m     11\u001b[0m \u001b[1;33m\u001b[0m\u001b[0m\n\u001b[1;32m---> 12\u001b[1;33m \u001b[0ms\u001b[0m\u001b[1;33m.\u001b[0m\u001b[0madd\u001b[0m\u001b[1;33m(\u001b[0m\u001b[0ms3\u001b[0m\u001b[1;33m,\u001b[0m \u001b[0mfill_value\u001b[0m\u001b[1;33m=\u001b[0m\u001b[1;36m0\u001b[0m\u001b[1;33m)\u001b[0m\u001b[1;33m\u001b[0m\u001b[0m\n\u001b[0m\u001b[0;32m     13\u001b[0m \u001b[0ms\u001b[0m\u001b[1;33m.\u001b[0m\u001b[0msub\u001b[0m\u001b[1;33m(\u001b[0m\u001b[0ms3\u001b[0m\u001b[1;33m,\u001b[0m \u001b[0mfill_value\u001b[0m\u001b[1;33m=\u001b[0m\u001b[1;36m2\u001b[0m\u001b[1;33m)\u001b[0m\u001b[1;33m\u001b[0m\u001b[0m\n\u001b[0;32m     14\u001b[0m \u001b[0ms\u001b[0m\u001b[1;33m.\u001b[0m\u001b[0mdiv\u001b[0m\u001b[1;33m(\u001b[0m\u001b[0ms3\u001b[0m\u001b[1;33m,\u001b[0m \u001b[0mfill_value\u001b[0m\u001b[1;33m=\u001b[0m\u001b[1;36m4\u001b[0m\u001b[1;33m)\u001b[0m\u001b[1;33m\u001b[0m\u001b[0m\n",
      "\u001b[1;31mNameError\u001b[0m: name 's3' is not defined"
     ]
    }
   ],
   "source": [
    "# https://s3.amazonaws.com/assets.datacamp.com/blog_assets/PandasPythonForDataScience.pdf\n",
    "\n",
    "import pandas as pd\n",
    "\n",
    "help(pd.Series.loc) \n",
    "\n",
    "# Series is a one-dimensional labeled array containing any data type.\n",
    "s = pd.Series([3, -5, 7, 4], index=['a', 'b', 'c', 'd'])\n",
    "\n",
    "s['b'] # Get one element\n",
    "\n",
    "s.add(s3, fill_value=0)\n",
    "s.sub(s3, fill_value=2)\n",
    "s.div(s3, fill_value=4)\n",
    "s.mul(s3, fill_value=3)\n",
    "\n",
    "s.drop(['a', 'c']) # Drop values from rows (axis=0)\n",
    "\n",
    "# DataFrame A two-dimensional labeled data structure with columns of potentially different types\n",
    "\n",
    "data = {'Country': ['Belgium', 'India', 'Brazil'],\n",
    "           'Capital': ['Ottawa', 'New Delhi', 'Brasília'],\n",
    "           'Population': [11190846, 1303171035, 207847528]}\n",
    "df = pd.DataFrame(data,\n",
    "            columns=['Country', 'Capital', 'Population'])\n",
    "\n",
    "df.iloc([0],[0]) # Select single value by row & column \n",
    "df.iat([0],[0]) \n",
    "\n",
    "df.loc([0], ['Country']) # Select single value by row & column labels\n",
    "df.at([0], ['Country'])   \n",
    "\n",
    "df.ix[2] # Select single row of subset of rows \n",
    "\n",
    "df.ix[:,'Capital']               # Select a single column of subset of columns   \n",
    "df.ix[1, 'Capital']              # Select rows and columns\n",
    "s[~(s > 1)]                      # Series s where value is not >1\n",
    "s[(s < -1) | (s > 2)]            # s where value is <-1 or >2\n",
    "df[df['Population']>1200000000]  #  Use filter to adjust DataFrame \n",
    "s['a'] = 6                       # Set index a of Series s to 6\n",
    "\n",
    "df[1:] # Get subset of a DataFrame \n",
    "\n",
    "df.drop('Country', axis=1) # Drop values from columns(axis=1)\n",
    "\n",
    "pd.read_csv('file.csv', header=None, nrows=5) # Read CSV\n",
    "df.to_csv('myDataFrame.csv')                  # Write CSV\n",
    "\n",
    "df.sort_index()              # Sort by labels along an axis\n",
    "df.sort_values(by='Country') # Sort by the values along an axis\n",
    "df.rank()                    # Assign ranks to entries\n",
    "\n",
    "df.shape                     # (rows,columns)\n",
    "df.index                     # Describe index\n",
    "df.columns                   # Describe DataFrame columns\n",
    "df.info()                    # Info on DataFrame\n",
    "df.count()                   # Number of non-NA values\n",
    "\n",
    "df.sum()                     # Sum of values\n",
    "df.cumsum()                  # Cummulative sum of values\n",
    "df.min()/df.max()            # Minimum/maximum values\n",
    "df.idxmin()/df.idxmax()      # Minimum/Maximum index value\n",
    "df.describe()                # Summary statistics\n",
    "df.mean()                    # Mean of values\n",
    "df.median()                  # Median of values\n",
    "\n",
    "f = lambda x: x*2\n",
    "df.apply(f)                  # Apply function\n",
    "df.applymap(f)               # Apply function element-wise\n",
    "\n",
    "\n",
    "from sqlalchemy import create_engine\n",
    "engine = create_engine('sqlite:///:memory:')\n",
    "pd.read_sql(\"SELECT * FROM my_table;\", engine)\n",
    "pd.read_sql_table('my_table', engine)\n",
    "pd.read_sql_query(\"SELECT * FROM my_table;\", engine)\n",
    "\n",
    "pd.read_excel('file.xlsx')\n",
    "pd.to_excel('dir/myDataFrame.xlsx', sheet_name='Sheet1')\n",
    "\n",
    "pd.to_sql('myDf', engine)\n"
   ]
  },
  {
   "cell_type": "markdown",
   "metadata": {},
   "source": [
    "## Creating a Series"
   ]
  },
  {
   "cell_type": "code",
   "execution_count": 5,
   "metadata": {},
   "outputs": [
    {
     "data": {
      "text/plain": [
       "Series([], dtype: float64)"
      ]
     },
     "execution_count": 5,
     "metadata": {},
     "output_type": "execute_result"
    }
   ],
   "source": [
    "# Creating an empty series\n",
    "import pandas as pd\n",
    "s = pd.Series()\n",
    "print(s)"
   ]
  },
  {
   "cell_type": "code",
   "execution_count": 9,
   "metadata": {},
   "outputs": [
    {
     "name": "stdout",
     "output_type": "stream",
     "text": [
      "0    1.0\n",
      "1    3.0\n",
      "2    5.0\n",
      "3    NaN\n",
      "4    6.0\n",
      "5    8.0\n",
      "dtype: float64\n"
     ]
    }
   ],
   "source": [
    "# Creating a series by passing a list of values, letting pandas create a default integer index\n",
    "import pandas as pd\n",
    "s = pd.Series([1,3,5,np.nan,6,8])\n",
    "print(s)"
   ]
  },
  {
   "cell_type": "markdown",
   "metadata": {
    "collapsed": true
   },
   "source": [
    "## Creating a DataFrame"
   ]
  },
  {
   "cell_type": "code",
   "execution_count": 12,
   "metadata": {},
   "outputs": [
    {
     "name": "stdout",
     "output_type": "stream",
     "text": [
      "DatetimeIndex(['2013-01-01', '2013-01-02', '2013-01-03', '2013-01-04',\n",
      "               '2013-01-05', '2013-01-06'],\n",
      "              dtype='datetime64[ns]', freq='D')\n",
      "                   A         B         C         D\n",
      "2013-01-01 -0.420288  0.999567  0.287990  0.137246\n",
      "2013-01-02 -0.493666 -0.691888 -0.717147 -1.079227\n",
      "2013-01-03  1.191976 -0.314759  0.344006 -0.358612\n",
      "2013-01-04 -1.591421 -1.196360  0.728208 -0.572639\n",
      "2013-01-05 -0.081979  0.393631 -1.267852 -0.442837\n",
      "2013-01-06  0.971636 -0.422000  0.577477 -0.862920\n",
      "A           float64\n",
      "B    datetime64[ns]\n",
      "C           float32\n",
      "D             int32\n",
      "E          category\n",
      "F            object\n",
      "dtype: object\n"
     ]
    }
   ],
   "source": [
    "# Creating a DataFrame by passing a numpy array, with a datetime index and labeled columns\n",
    "import pandas as pd\n",
    "import numpy as np\n",
    "dates = pd.date_range('20130101', periods=6)\n",
    "print(dates)\n",
    "df = pd.DataFrame(np.random.randn(6,4), index=dates, columns=list('ABCD'))\n",
    "print(df)\n",
    "print(df2.dtypes)"
   ]
  },
  {
   "cell_type": "code",
   "execution_count": 11,
   "metadata": {},
   "outputs": [
    {
     "name": "stdout",
     "output_type": "stream",
     "text": [
      "     A          B    C  D      E    F\n",
      "0  1.0 2013-01-02  1.0  3   test  foo\n",
      "1  1.0 2013-01-02  1.0  3  train  foo\n",
      "2  1.0 2013-01-02  1.0  3   test  foo\n",
      "3  1.0 2013-01-02  1.0  3  train  foo\n"
     ]
    }
   ],
   "source": [
    "# Creating a DataFrame by passing a dict of objects that can be converted to series-like\n",
    "df2 = pd.DataFrame({ 'A' : 1.,\n",
    "  'B' : pd.Timestamp('20130102'),\n",
    "  'C' : pd.Series(1,index=list(range(4)),dtype='float32'),\n",
    "  'D' : np.array([3] * 4,dtype='int32'),\n",
    "  'E' : pd.Categorical([\"test\",\"train\",\"test\",\"train\"]),\n",
    "  'F' : 'foo' })\n",
    "print(df2)"
   ]
  },
  {
   "cell_type": "code",
   "execution_count": null,
   "metadata": {
    "collapsed": true
   },
   "outputs": [],
   "source": []
  }
 ],
 "metadata": {
  "kernelspec": {
   "display_name": "Python 3",
   "language": "python",
   "name": "python3"
  },
  "language_info": {
   "codemirror_mode": {
    "name": "ipython",
    "version": 3
   },
   "file_extension": ".py",
   "mimetype": "text/x-python",
   "name": "python",
   "nbconvert_exporter": "python",
   "pygments_lexer": "ipython3",
   "version": "3.6.3"
  }
 },
 "nbformat": 4,
 "nbformat_minor": 2
}

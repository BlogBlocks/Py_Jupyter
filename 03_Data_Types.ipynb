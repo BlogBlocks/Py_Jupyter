{
 "cells": [
  {
   "cell_type": "markdown",
   "metadata": {},
   "source": [
    "# 03 Data Types"
   ]
  },
  {
   "cell_type": "code",
   "execution_count": 2,
   "metadata": {},
   "outputs": [
    {
     "name": "stdout",
     "output_type": "stream",
     "text": [
      "<class 'int'>\n",
      "<class 'float'>\n",
      "<class 'fractions.Fraction'>\n",
      "<class 'complex'>\n",
      "<class 'str'>\n",
      "<class 'bool'>\n",
      "<class 'list'>\n",
      "<class 'tuple'>\n",
      "<class 'dict'>\n",
      "<class 'set'>\n",
      "<class 'bytes'>\n",
      "<class 'function'>\n",
      "<class 'str'>\n",
      "<class 'module'>\n",
      "<class 'int'>\n",
      "<class 'NoneType'>\n",
      "True\n"
     ]
    }
   ],
   "source": [
    "#https://docs.python.org/3.1/library/stdtypes.html\n",
    "\n",
    "print(type(1))\n",
    "print(type(1.0))\n",
    "\n",
    "import fractions\n",
    "print(type(fractions.Fraction(1,2)))\n",
    "print(type(1j))\n",
    "print(type(\"cool\"))\n",
    "print(type(True))\n",
    "print(type([]))\n",
    "print(type(()))\n",
    "print(type({}))\n",
    "print(type(set([])))\n",
    "print(type(bytes(0xFF)))\n",
    "def func():\n",
    "    '''\n",
    "    cool function\n",
    "    '''\n",
    "    pass\n",
    "\n",
    "print(type(func))\n",
    "print(type(func.__doc__))\n",
    "print(type(fractions))\n",
    "print(type(int(3.141592)))\n",
    "print(type(None))\n",
    "print(isinstance(1, int))"
   ]
  },
  {
   "cell_type": "markdown",
   "metadata": {},
   "source": [
    "## Single, Double and Triple Quoted Strings"
   ]
  },
  {
   "cell_type": "code",
   "execution_count": 3,
   "metadata": {},
   "outputs": [
    {
     "name": "stdout",
     "output_type": "stream",
     "text": [
      "Single Quoted String\n",
      "\n",
      "Double Quoted String\n",
      "\n",
      "Triple Quoted String:\n",
      "The sun was shining on the sea,\n",
      "Shining with all his might:\n",
      "He did his very best to make\n",
      "The billows smooth and bright--\n",
      "And this was odd, because it was\n",
      "The middle of the night.\n",
      "\n",
      "\n"
     ]
    }
   ],
   "source": [
    "x = 'Single Quoted String\\n'\n",
    "print(x)\n",
    "\n",
    "\n",
    "x = \"Double Quoted String\\n\"\n",
    "print(x)\n",
    "\n",
    "x = '''Triple Quoted String:\n",
    "The sun was shining on the sea,\n",
    "Shining with all his might:\n",
    "He did his very best to make\n",
    "The billows smooth and bright--\n",
    "And this was odd, because it was\n",
    "The middle of the night.\\n'''\n",
    "print(x)\n",
    "print()"
   ]
  },
  {
   "cell_type": "code",
   "execution_count": null,
   "metadata": {
    "collapsed": true
   },
   "outputs": [],
   "source": []
  }
 ],
 "metadata": {
  "kernelspec": {
   "display_name": "Python 3",
   "language": "python",
   "name": "python3"
  },
  "language_info": {
   "codemirror_mode": {
    "name": "ipython",
    "version": 3
   },
   "file_extension": ".py",
   "mimetype": "text/x-python",
   "name": "python",
   "nbconvert_exporter": "python",
   "pygments_lexer": "ipython3",
   "version": "3.6.3"
  }
 },
 "nbformat": 4,
 "nbformat_minor": 2
}

{
 "cells": [
  {
   "cell_type": "markdown",
   "metadata": {},
   "source": [
    "# Python Decorators\n",
    "\n",
    "- Python's answer to C macros, Java annotations, C# attributes, and JavaScript decorators\n",
    "- Most similar to JavaScript decorators (interpreted runtime behavior)\n",
    "- Wraps one piece of code with another\n",
    "- Supports a terse @ syntax for composing higher-order functions\n",
    "- Defines function that takes another function and returns a new function\n",
    "- Used to extend behavior of a function without explicitly modifying it\n",
    "- Used for cross-cutting concerns\n",
    "- Aspect-Oriented Programming \n",
    "- Decorators vs. the Decorator Pattern"
   ]
  },
  {
   "cell_type": "markdown",
   "metadata": {},
   "source": [
    "## Topics\n",
    "\n",
    "- Functional Programming\n",
    "- Simple Decorator Function\n",
    "- Decorator Syntactic Sugar\n",
    "- Invocation Counter\n",
    "- Parameterized Decorator Function\n",
    "- Function Call Rate Limiting\n",
    "- Authorization and Access Control\n",
    "- Logging and Instrumentation\n",
    "- Stack Trace and Debugging\n",
    "- The @timing Decorator\n",
    "- Memoization and Performance Enhancement\n",
    "- The @functools.wraps Decorator\n",
    "- Decorator Classes\n",
    "- The @staticmethod Decorator\n",
    "- The @staticclassmethod Decorator"
   ]
  },
  {
   "cell_type": "markdown",
   "metadata": {},
   "source": [
    "## Functional Programming\n",
    "- Functions\n",
    "- Function Objects\n",
    "- Lambdas\n",
    "- Higher Order Functions"
   ]
  },
  {
   "cell_type": "code",
   "execution_count": 1,
   "metadata": {},
   "outputs": [
    {
     "name": "stdout",
     "output_type": "stream",
     "text": [
      "my_func_1 called\n",
      "16\n",
      "my_func_1 called\n",
      "25\n",
      "my_func_1 called\n",
      "36\n",
      "calling returned lambda function\n",
      "49\n"
     ]
    }
   ],
   "source": [
    "# define function\n",
    "def my_func_1(x):\n",
    "    print(\"my_func_1 called\")\n",
    "    return x**2\n",
    "\n",
    "# directly call function by name\n",
    "result = my_func_1 (4)\n",
    "print(result) # output: 16\n",
    "\n",
    "# indirectly call function via function object\n",
    "f = my_func_1\n",
    "result = f(5)\n",
    "print(result) # output: 25\n",
    "\n",
    "# pass function object as a function argument\n",
    "def call_function(f, x):\n",
    "    return f(x)\n",
    "result = call_function(f, 6)\n",
    "print(result) # output: 36\n",
    "\n",
    "# return function object as a function result\n",
    "def return_function(x):\n",
    "    return lambda : x * x    # lambda expression but could have used a named function\n",
    "print('calling returned lambda function')\n",
    "result = return_function(7)()\n",
    "print(result) # output: 49"
   ]
  },
  {
   "cell_type": "markdown",
   "metadata": {},
   "source": [
    "## Simple Decorator Function\n",
    "\n",
    "- Decorator function\n",
    "- Nested return function\n",
    "- Decorated target function\n",
    "- Extends functionality via code injection"
   ]
  },
  {
   "cell_type": "code",
   "execution_count": 45,
   "metadata": {},
   "outputs": [
    {
     "name": "stdout",
     "output_type": "stream",
     "text": [
      "my_func_2 called\n",
      "16\n",
      "---\n",
      "my_decorator_2 called\n",
      "new_func called\n",
      "my_func_2 called\n",
      "16\n"
     ]
    }
   ],
   "source": [
    "# simple decorator function\n",
    "def my_decorator_2(old_func):\n",
    "    print(\"my_decorator_2 called\")    \n",
    "    def new_func(n):                     # nested function\n",
    "        print(\"new_func called\")\n",
    "        return old_func(n)               # invoke original target function\n",
    "    return new_func                      # return nested function\n",
    "\n",
    "# target function to be decoratorated\n",
    "def my_func_2(x):\n",
    "    print(\"my_func_2 called\")\n",
    "    return x**2\n",
    "\n",
    "result = my_func_2(4)                    # call function before decoratoration\n",
    "print(result)\n",
    "\n",
    "print('---')\n",
    "\n",
    "my_func_2 = my_decorator_2(my_func_2)    # programatically decorate function\n",
    "result = my_func_2(4)                    # call function after decoratoration\n",
    "print(result)"
   ]
  },
  {
   "cell_type": "markdown",
   "metadata": {},
   "source": [
    "## Decorator Syntactic Sugar\n",
    "\n",
    "- Uses the declarative @ decorator syntax\n",
    "- Automatically sets up higher order function logic as shown in previous example\n",
    "- Extends functionality via code injection"
   ]
  },
  {
   "cell_type": "code",
   "execution_count": 3,
   "metadata": {},
   "outputs": [
    {
     "name": "stdout",
     "output_type": "stream",
     "text": [
      "my_decorator_3 called\n",
      "new_func called\n",
      "my_func_3 called\n",
      "16\n"
     ]
    }
   ],
   "source": [
    "# decorator function\n",
    "def my_decorator_3(old_func):\n",
    "    print(\"my_decorator_3 called\")\n",
    "    def new_func(n):\n",
    "        print(\"new_func called\")\n",
    "        return old_func(n)\n",
    "    return new_func\n",
    "\n",
    "# decorator syntactic sugar\n",
    "@my_decorator_3                     # declaratively decorate function\n",
    "def my_func_3(x):\n",
    "    print(\"my_func_3 called\")\n",
    "    return x**2\n",
    "    \n",
    "result = my_func_3(4)\n",
    "print(result)"
   ]
  },
  {
   "cell_type": "markdown",
   "metadata": {},
   "source": [
    "# Invocation Counter\n",
    "\n",
    "- Uses a closure to store persistent fucntion call \n",
    "- Fucntion call counter is initialized to zero\n",
    "- Fucntion call counter is incremented on every call to the function"
   ]
  },
  {
   "cell_type": "code",
   "execution_count": 4,
   "metadata": {},
   "outputs": [
    {
     "name": "stdout",
     "output_type": "stream",
     "text": [
      "counter:  1\n",
      "16\n",
      "counter:  2\n",
      "25\n",
      "counter:  3\n",
      "36\n"
     ]
    }
   ],
   "source": [
    "# invocation counter decorator\n",
    "def invocation_counter(old_func):\n",
    "    counter = 0                     # closure\n",
    "    def new_func(n):\n",
    "        nonlocal counter\n",
    "        counter += 1\n",
    "        print(\"counter: \", counter)\n",
    "        return old_func(n)\n",
    "    return new_func\n",
    "\n",
    "# decorator syntactic sugar\n",
    "@invocation_counter\n",
    "def square(x):\n",
    "    return x**2\n",
    "    \n",
    "result = print(square(4))\n",
    "result = print(square(5))\n",
    "result = print(square(6))"
   ]
  },
  {
   "cell_type": "markdown",
   "metadata": {},
   "source": [
    "## Parameterized Decorator Function\n",
    "\n",
    "- Parameter is used to provide decorator with initial value\n",
    "- Any number of parameters of any type could be provided\n",
    "- The parameter value is stored in a closure for future use\n",
    "- The parameter value is displayed on subsequent invokations for demonstration purposes\n",
    "- The decorator is applied to a function, with an argument provided"
   ]
  },
  {
   "cell_type": "code",
   "execution_count": 5,
   "metadata": {},
   "outputs": [
    {
     "name": "stdout",
     "output_type": "stream",
     "text": [
      "my_decorator_4 called with parameter: Hello World!\n",
      "wrap_old_func called\n",
      "new_func called\n",
      "Hello World!\n",
      "my_func_4 called\n",
      "16\n"
     ]
    }
   ],
   "source": [
    "# parameterized decorator function\n",
    "def my_decorator_4(text):\n",
    "    print(\"my_decorator_4 called with parameter:\", text)\n",
    "    def wrap_old_func(old_func):\n",
    "        print(\"wrap_old_func called\")\n",
    "        def new_func(n):\n",
    "            print(\"new_func called\")\n",
    "            print(text)\n",
    "            return old_func(n)\n",
    "        return new_func\n",
    "    return wrap_old_func\n",
    "\n",
    "# decorator syntactic sugar\n",
    "@my_decorator_4(\"Hello World!\")    # decoratror with parameter\n",
    "def my_func_4(x):\n",
    "    print(\"my_func_4 called\")\n",
    "    return x**2\n",
    "    \n",
    "result = my_func_4(4)\n",
    "print(result)"
   ]
  },
  {
   "cell_type": "markdown",
   "metadata": {},
   "source": [
    "## Function Call Rate Limiting\n",
    "\n",
    "- A decorator named limit_rate is defined with a parameter named min_time\n",
    "- A closure is created containing a variable named prev_time initialized as time.clock() - min_time\n",
    "- Every time the decorated function is called, curr_time is established\n",
    "- If time transpired is less than min_time then prev_time is updated and None is returned\n",
    "- Otherwise prev_time is updated and the result of the target function is returned\n",
    "- If the decorated function is called repeatedly in rapid succession it ignores the call\n",
    "- If the decorated function is  called repeatedly with a sufficient delay it makes the call"
   ]
  },
  {
   "cell_type": "code",
   "execution_count": 47,
   "metadata": {},
   "outputs": [
    {
     "name": "stdout",
     "output_type": "stream",
     "text": [
      "1.000076304846516\n",
      "16\n",
      "0.0009816997771849856\n",
      "None\n",
      "0.00047612439084332436\n",
      "None\n",
      "2.003317252794659\n",
      "49\n",
      "0.00039267991087399423\n",
      "None\n",
      "0.00016287291691696737\n",
      "None\n"
     ]
    }
   ],
   "source": [
    "import time\n",
    "\n",
    "# limit rate decorator\n",
    "def limit_rate(min_time):\n",
    "    def wrap_old_func(old_func):\n",
    "        prev_time = time.clock() - min_time  # closure\n",
    "        def new_func(n):\n",
    "            nonlocal prev_time\n",
    "            curr_time = time.clock()\n",
    "            print(curr_time - prev_time)\n",
    "            if curr_time - prev_time < min_time:\n",
    "                prev_time = curr_time\n",
    "                return None\n",
    "            else:\n",
    "                prev_time = curr_time\n",
    "                return old_func(n)\n",
    "        return new_func\n",
    "    return wrap_old_func\n",
    "\n",
    "# decorator syntactic sugar\n",
    "@limit_rate(1.0)                             # consecutive calls must be at least 1 second apart\n",
    "def square(x):\n",
    "    return x**2\n",
    "    \n",
    "result = print(square(4))    # output: 16\n",
    "result = print(square(5))    # output: None\n",
    "result = print(square(6))    # output: None\n",
    "time.sleep(2.0)\n",
    "result = print(square(7))    # output: 49\n",
    "result = print(square(8))    # output: None\n",
    "result = print(square(9))    # output: None"
   ]
  },
  {
   "cell_type": "markdown",
   "metadata": {},
   "source": [
    "# Authorization and Access Control\n",
    "\n",
    "- Initially no user is logged in and this authorized is False\n",
    "- The login function is hard coded for demonstration purposes\n",
    "- The logout function is hard coded for demonstration purposes\n",
    "- The require_auth decorator forces its target function to require authentication\n",
    "- If authorized is True then the DoSomethingDangerous executes its code normally\n",
    "- If authorized is False then the DoSomethingDangerous does not execute its code"
   ]
  },
  {
   "cell_type": "code",
   "execution_count": 48,
   "metadata": {},
   "outputs": [
    {
     "name": "stdout",
     "output_type": "stream",
     "text": [
      "ERROR: Not authorized\n",
      "---\n",
      "login succeeded\n",
      "DoSomethingDangerous called with authorized: True\n",
      "---\n",
      "logout called\n",
      "ERROR: Not authorized\n",
      "---\n",
      "login failed\n",
      "ERROR: Not authorized\n",
      "---\n",
      "login succeeded\n",
      "DoSomethingDangerous called with authorized: True\n"
     ]
    }
   ],
   "source": [
    "authorized = False\n",
    "\n",
    "def login(username, password):    \n",
    "    global authorized\n",
    "    if username == 'Carole' and password == 'Pa55w.rd':\n",
    "        authorized = True\n",
    "        print('login succeeded')\n",
    "    else:\n",
    "        print('login failed')\n",
    "\n",
    "def logout():\n",
    "    global authorized\n",
    "    print('logout called')\n",
    "    authorized = False\n",
    "    \n",
    "def require_auth(func):\n",
    "    def decorated_func(*args, **kwargs):\n",
    "        if not authorized:\n",
    "            print('ERROR: Not authorized')\n",
    "            return None\n",
    "        return func(*args, **kwargs)\n",
    "    return decorated_func\n",
    "\n",
    "@require_auth\n",
    "def DoSomethingDangerous():\n",
    "    print('DoSomethingDangerous called with authorized:', authorized)\n",
    "\n",
    "DoSomethingDangerous()          # output: ERROR: Not authorized\n",
    "print('---')\n",
    "login('Carole', 'Pa55w.rd')\n",
    "DoSomethingDangerous()          #  output: DoSomethingDangerous called with authorized: True\n",
    "print('---')\n",
    "logout()\n",
    "DoSomethingDangerous()          #  output: ERROR: Not authorized\n",
    "print('---')\n",
    "login('David', 'wrong-guess')\n",
    "DoSomethingDangerous()          #  output: ERROR: Not authorized\n",
    "print('---')\n",
    "login('Carole', 'Pa55w.rd')\n",
    "DoSomethingDangerous()          # output: DoSomethingDangerous called with authorized: True"
   ]
  },
  {
   "cell_type": "markdown",
   "metadata": {},
   "source": [
    "# Logging and Instrumentation"
   ]
  },
  {
   "cell_type": "code",
   "execution_count": 44,
   "metadata": {},
   "outputs": [
    {
     "name": "stdout",
     "output_type": "stream",
     "text": [
      "addition_func args: (4,) kwargs{} called at: 2018-04-24 16:35:17.948786\n",
      "addition_func args: (5,) kwargs{} called at: 2018-04-24 16:35:19.950062\n",
      "addition_func args: (6, 33) kwargs{} called at: 2018-04-24 16:35:24.964340\n"
     ]
    },
    {
     "ename": "TypeError",
     "evalue": "addition_func() takes 1 positional argument but 2 were given",
     "output_type": "error",
     "traceback": [
      "\u001b[1;31m---------------------------------------------------------------------------\u001b[0m",
      "\u001b[1;31mTypeError\u001b[0m                                 Traceback (most recent call last)",
      "\u001b[1;32m<ipython-input-44-8b103bcd342b>\u001b[0m in \u001b[0;36m<module>\u001b[1;34m()\u001b[0m\n\u001b[0;32m     17\u001b[0m \u001b[0mresult\u001b[0m \u001b[1;33m=\u001b[0m \u001b[0maddition_func\u001b[0m\u001b[1;33m(\u001b[0m\u001b[1;36m5\u001b[0m\u001b[1;33m)\u001b[0m\u001b[1;33m\u001b[0m\u001b[0m\n\u001b[0;32m     18\u001b[0m \u001b[0mtime\u001b[0m\u001b[1;33m.\u001b[0m\u001b[0msleep\u001b[0m\u001b[1;33m(\u001b[0m\u001b[1;36m5\u001b[0m\u001b[1;33m)\u001b[0m\u001b[1;33m\u001b[0m\u001b[0m\n\u001b[1;32m---> 19\u001b[1;33m \u001b[0mresult\u001b[0m \u001b[1;33m=\u001b[0m \u001b[0maddition_func\u001b[0m\u001b[1;33m(\u001b[0m\u001b[1;36m6\u001b[0m\u001b[1;33m,\u001b[0m \u001b[1;36m33\u001b[0m\u001b[1;33m)\u001b[0m\u001b[1;33m\u001b[0m\u001b[0m\n\u001b[0m\u001b[0;32m     20\u001b[0m \u001b[0mtime\u001b[0m\u001b[1;33m.\u001b[0m\u001b[0msleep\u001b[0m\u001b[1;33m(\u001b[0m\u001b[1;36m1\u001b[0m\u001b[1;33m)\u001b[0m\u001b[1;33m\u001b[0m\u001b[0m\n\u001b[0;32m     21\u001b[0m \u001b[0mresult\u001b[0m \u001b[1;33m=\u001b[0m \u001b[0maddition_func\u001b[0m\u001b[1;33m(\u001b[0m\u001b[1;36m6\u001b[0m\u001b[1;33m,\u001b[0m \u001b[0mx\u001b[0m \u001b[1;33m=\u001b[0m \u001b[1;36m42\u001b[0m\u001b[1;33m)\u001b[0m\u001b[1;33m\u001b[0m\u001b[0m\n",
      "\u001b[1;32m<ipython-input-44-8b103bcd342b>\u001b[0m in \u001b[0;36mfunc_with_logging\u001b[1;34m(*args, **kwargs)\u001b[0m\n\u001b[0;32m      5\u001b[0m     \u001b[1;32mdef\u001b[0m \u001b[0mfunc_with_logging\u001b[0m\u001b[1;33m(\u001b[0m\u001b[1;33m*\u001b[0m\u001b[0margs\u001b[0m\u001b[1;33m,\u001b[0m \u001b[1;33m**\u001b[0m\u001b[0mkwargs\u001b[0m\u001b[1;33m)\u001b[0m\u001b[1;33m:\u001b[0m\u001b[1;33m\u001b[0m\u001b[0m\n\u001b[0;32m      6\u001b[0m         \u001b[0mprint\u001b[0m\u001b[1;33m(\u001b[0m\u001b[0mfunc\u001b[0m\u001b[1;33m.\u001b[0m\u001b[0m__name__\u001b[0m \u001b[1;33m+\u001b[0m \u001b[1;34m\" args: \"\u001b[0m \u001b[1;33m+\u001b[0m \u001b[0mstr\u001b[0m\u001b[1;33m(\u001b[0m\u001b[0margs\u001b[0m\u001b[1;33m)\u001b[0m \u001b[1;33m+\u001b[0m \u001b[1;34m\" kwargs\"\u001b[0m \u001b[1;33m+\u001b[0m \u001b[0mstr\u001b[0m\u001b[1;33m(\u001b[0m\u001b[0mkwargs\u001b[0m\u001b[1;33m)\u001b[0m \u001b[1;33m+\u001b[0m \u001b[1;34m\" called at: \"\u001b[0m \u001b[1;33m+\u001b[0m \u001b[0mstr\u001b[0m\u001b[1;33m(\u001b[0m\u001b[0mdatetime\u001b[0m\u001b[1;33m.\u001b[0m\u001b[0mdatetime\u001b[0m\u001b[1;33m.\u001b[0m\u001b[0mnow\u001b[0m\u001b[1;33m(\u001b[0m\u001b[1;33m)\u001b[0m\u001b[1;33m)\u001b[0m\u001b[1;33m)\u001b[0m\u001b[1;33m\u001b[0m\u001b[0m\n\u001b[1;32m----> 7\u001b[1;33m         \u001b[1;32mreturn\u001b[0m \u001b[0mfunc\u001b[0m\u001b[1;33m(\u001b[0m\u001b[1;33m*\u001b[0m\u001b[0margs\u001b[0m\u001b[1;33m,\u001b[0m \u001b[1;33m**\u001b[0m\u001b[0mkwargs\u001b[0m\u001b[1;33m)\u001b[0m\u001b[1;33m\u001b[0m\u001b[0m\n\u001b[0m\u001b[0;32m      8\u001b[0m     \u001b[1;32mreturn\u001b[0m \u001b[0mfunc_with_logging\u001b[0m\u001b[1;33m\u001b[0m\u001b[0m\n\u001b[0;32m      9\u001b[0m \u001b[1;33m\u001b[0m\u001b[0m\n",
      "\u001b[1;31mTypeError\u001b[0m: addition_func() takes 1 positional argument but 2 were given"
     ]
    }
   ],
   "source": [
    "import datetime\n",
    "import time\n",
    "\n",
    "def logging(func):\n",
    "    def func_with_logging(*args, **kwargs):\n",
    "        print(func.__name__ + \" args: \" + str(args) + \" kwargs\" + str(kwargs) + \" called at: \" + str(datetime.datetime.now()))\n",
    "        return func(*args, **kwargs)\n",
    "    return func_with_logging\n",
    "\n",
    "@logging\n",
    "def addition_func(x):\n",
    "   \"\"\"Do some math.\"\"\"\n",
    "   return x + x\n",
    "\n",
    "result = addition_func(4)\n",
    "time.sleep(2)\n",
    "result = addition_func(5)\n",
    "time.sleep(5)\n",
    "result = addition_func(6, 33)\n",
    "time.sleep(1)\n",
    "result = addition_func(6, x = 42)"
   ]
  },
  {
   "cell_type": "markdown",
   "metadata": {},
   "source": [
    "## Stack Trace and Debugging"
   ]
  },
  {
   "cell_type": "code",
   "execution_count": null,
   "metadata": {},
   "outputs": [],
   "source": [
    "# ???"
   ]
  },
  {
   "cell_type": "markdown",
   "metadata": {},
   "source": [
    "# The @timing Decorator"
   ]
  },
  {
   "cell_type": "code",
   "execution_count": null,
   "metadata": {},
   "outputs": [],
   "source": [
    "# ???"
   ]
  },
  {
   "cell_type": "markdown",
   "metadata": {},
   "source": [
    "## Memoization and Performance Enhancement\n",
    "\n",
    "- Optimization technique that leverages cached results\n",
    "- Can speed up some algorithms by avoiding costly redundant calculations"
   ]
  },
  {
   "cell_type": "code",
   "execution_count": 12,
   "metadata": {},
   "outputs": [
    {
     "name": "stdout",
     "output_type": "stream",
     "text": [
      "Wait for result...\n",
      "call_fibonacci_plain -> 11.335016250610352 seconds\n",
      "    call_fibonacci_plain(35): 9227465\n",
      "call_fibonacci_memoized -> 0.0 seconds\n",
      "    call_fibonacci_memoized(35): 9227465\n",
      "call_fibonacci_memoized -> 0.0 seconds\n",
      "    call_fibonacci_memoized(35): 9227465\n",
      "call_fibonacci_memoized -> 0.0 seconds\n",
      "    call_fibonacci_memoized(50): 12586269025\n",
      "call_fibonacci_memoized -> 0.0 seconds\n",
      "    call_fibonacci_memoized(100): 354224848179261915075\n"
     ]
    }
   ],
   "source": [
    "def memoize(func):\n",
    "    cache = func.cache = {}\n",
    "    def memoized_func(*args, **kwargs):\n",
    "        key = str(args) + str(kwargs)\n",
    "        if key not in cache:\n",
    "            cache[key] = func(*args, **kwargs)\n",
    "        return cache[key]\n",
    "    return memoized_func\n",
    "\n",
    "import time\n",
    "\n",
    "def timeit(method):\n",
    "    def timed(*args, **kw):\n",
    "        t_start = time.time()\n",
    "        result = method(*args, **kw)\n",
    "        t_end = time.time()\n",
    "        print (f\"{method.__name__} -> {t_end-t_start} seconds\")\n",
    "        return result\n",
    "    return timed\n",
    "\n",
    "@memoize\n",
    "def fibonacci_memoized(n):    # O(n) -> time complexity is linear (each result for 0 to n only once)\n",
    "    if n == 0: return 0\n",
    "    if n == 1: return 1\n",
    "    else: return fibonacci_memoized(n-1) + fibonacci_memoized(n-2)\n",
    "\n",
    "def fibonacci_plain(n):       # O(2^n) -> time complexity is exponetial\n",
    "    if n == 0:return 0\n",
    "    if n == 1:return 1\n",
    "    else: return fibonacci_plain(n-1) + fibonacci_plain(n-2)\n",
    "\n",
    "@timeit\n",
    "def call_fibonacci_plain(n):\n",
    "    return fibonacci_plain(n)\n",
    "\n",
    "print(\"Wait for result...\")\n",
    "\n",
    "result = call_fibonacci_plain(35)\n",
    "print(\"    call_fibonacci_plain(35):\", result)\n",
    "\n",
    "# = call_fibonacci_plain(50)  # takes long time then blows the stack\n",
    "#print(\"    call_fibonacci_plain(50):\", result)\n",
    "\n",
    "@timeit\n",
    "def call_fibonacci_memoized(n):\n",
    "    return fibonacci_memoized(n)\n",
    "\n",
    "result = call_fibonacci_memoized(35)\n",
    "print(\"    call_fibonacci_memoized(35):\", result)\n",
    "\n",
    "result = call_fibonacci_memoized(35)\n",
    "print(\"    call_fibonacci_memoized(35):\", result)\n",
    "\n",
    "result = call_fibonacci_memoized(50)\n",
    "print(\"    call_fibonacci_memoized(50):\", result)\n",
    "\n",
    "result = call_fibonacci_memoized(100)\n",
    "print(\"    call_fibonacci_memoized(100):\", result)"
   ]
  },
  {
   "cell_type": "markdown",
   "metadata": {},
   "source": [
    "## Memoization and Performance Enhancement"
   ]
  },
  {
   "cell_type": "code",
   "execution_count": null,
   "metadata": {},
   "outputs": [],
   "source": [
    "# ???"
   ]
  },
  {
   "cell_type": "markdown",
   "metadata": {},
   "source": [
    "## The @functools.wraps Decorator"
   ]
  },
  {
   "cell_type": "code",
   "execution_count": null,
   "metadata": {},
   "outputs": [],
   "source": []
  },
  {
   "cell_type": "markdown",
   "metadata": {},
   "source": [
    "## Decorator Classes"
   ]
  },
  {
   "cell_type": "code",
   "execution_count": null,
   "metadata": {},
   "outputs": [],
   "source": [
    "class email_logit(logit):\n",
    "    '''\n",
    "    A logit implementation for sending emails to admins\n",
    "    when the function is called.\n",
    "    '''\n",
    "    def __init__(self, email='admin@myproject.com', *args, **kwargs):\n",
    "        self.email = email\n",
    "        super(email_logit, self).__init__(*args, **kwargs)\n",
    "\n",
    "    def notify(self):\n",
    "        # Send an email to self.email\n",
    "        # Will not be implemented here\n",
    "        pass"
   ]
  },
  {
   "cell_type": "code",
   "execution_count": 7,
   "metadata": {},
   "outputs": [
    {
     "name": "stdout",
     "output_type": "stream",
     "text": [
      "mean(10, 20, 40) called [#1]\n"
     ]
    },
    {
     "ename": "TypeError",
     "evalue": "unsupported operand type(s) for +: 'int' and 'str'",
     "output_type": "error",
     "traceback": [
      "\u001b[1;31m---------------------------------------------------------------------------\u001b[0m",
      "\u001b[1;31mTypeError\u001b[0m                                 Traceback (most recent call last)",
      "\u001b[1;32m<ipython-input-7-3e21c4e86907>\u001b[0m in \u001b[0;36m<module>\u001b[1;34m()\u001b[0m\n\u001b[0;32m     24\u001b[0m     \u001b[1;32mreturn\u001b[0m \u001b[0msum\u001b[0m\u001b[1;33m(\u001b[0m\u001b[0mparams\u001b[0m\u001b[1;33m)\u001b[0m\u001b[1;33m/\u001b[0m\u001b[0mlen\u001b[0m\u001b[1;33m(\u001b[0m\u001b[0mparams\u001b[0m\u001b[1;33m)\u001b[0m\u001b[1;33m\u001b[0m\u001b[0m\n\u001b[0;32m     25\u001b[0m \u001b[1;33m\u001b[0m\u001b[0m\n\u001b[1;32m---> 26\u001b[1;33m \u001b[0mresult\u001b[0m \u001b[1;33m=\u001b[0m \u001b[0mmean\u001b[0m\u001b[1;33m(\u001b[0m\u001b[1;36m10\u001b[0m\u001b[1;33m,\u001b[0m \u001b[1;36m20\u001b[0m\u001b[1;33m,\u001b[0m \u001b[1;36m40\u001b[0m\u001b[1;33m)\u001b[0m\u001b[1;33m\u001b[0m\u001b[0m\n\u001b[0m\u001b[0;32m     27\u001b[0m \u001b[0mprint\u001b[0m\u001b[1;33m(\u001b[0m\u001b[0mresult\u001b[0m\u001b[1;33m)\u001b[0m\u001b[1;33m\u001b[0m\u001b[0m\n\u001b[0;32m     28\u001b[0m \u001b[1;33m\u001b[0m\u001b[0m\n",
      "\u001b[1;32m<ipython-input-7-3e21c4e86907>\u001b[0m in \u001b[0;36mwrap\u001b[1;34m(*params, **kwargs)\u001b[0m\n\u001b[0;32m     12\u001b[0m         \u001b[0mprint\u001b[0m\u001b[1;33m(\u001b[0m\u001b[1;34mf\"{indent}{fc} called [#{call}]\"\u001b[0m\u001b[1;33m)\u001b[0m\u001b[1;33m\u001b[0m\u001b[0m\n\u001b[0;32m     13\u001b[0m         \u001b[0m__report_indent\u001b[0m\u001b[1;33m[\u001b[0m\u001b[1;36m0\u001b[0m\u001b[1;33m]\u001b[0m \u001b[1;33m+=\u001b[0m \u001b[1;36m1\u001b[0m\u001b[1;33m\u001b[0m\u001b[0m\n\u001b[1;32m---> 14\u001b[1;33m         \u001b[0mret\u001b[0m \u001b[1;33m=\u001b[0m \u001b[0mfn\u001b[0m\u001b[1;33m(\u001b[0m\u001b[1;33m*\u001b[0m\u001b[0mparams\u001b[0m\u001b[1;33m,\u001b[0m\u001b[1;33m**\u001b[0m\u001b[0mkwargs\u001b[0m\u001b[1;33m)\u001b[0m\u001b[1;33m\u001b[0m\u001b[0m\n\u001b[0m\u001b[0;32m     15\u001b[0m         \u001b[0m__report_indent\u001b[0m\u001b[1;33m[\u001b[0m\u001b[1;36m0\u001b[0m\u001b[1;33m]\u001b[0m \u001b[1;33m-=\u001b[0m \u001b[1;36m1\u001b[0m\u001b[1;33m\u001b[0m\u001b[0m\n\u001b[0;32m     16\u001b[0m         \u001b[0mprint\u001b[0m\u001b[1;33m(\u001b[0m\u001b[1;34mf\"{indent}{fc} returned {repr(ret)} [#{call}]\"\u001b[0m\u001b[1;33m)\u001b[0m\u001b[1;33m\u001b[0m\u001b[0m\n",
      "\u001b[1;32m<ipython-input-7-3e21c4e86907>\u001b[0m in \u001b[0;36mmean\u001b[1;34m(*params)\u001b[0m\n\u001b[0;32m     22\u001b[0m \u001b[1;33m@\u001b[0m\u001b[0mreport\u001b[0m\u001b[1;33m\u001b[0m\u001b[0m\n\u001b[0;32m     23\u001b[0m \u001b[1;32mdef\u001b[0m \u001b[0mmean\u001b[0m\u001b[1;33m(\u001b[0m\u001b[1;33m*\u001b[0m\u001b[0mparams\u001b[0m\u001b[1;33m)\u001b[0m\u001b[1;33m:\u001b[0m\u001b[1;33m\u001b[0m\u001b[0m\n\u001b[1;32m---> 24\u001b[1;33m     \u001b[1;32mreturn\u001b[0m \u001b[0msum\u001b[0m\u001b[1;33m(\u001b[0m\u001b[0mparams\u001b[0m\u001b[1;33m)\u001b[0m\u001b[1;33m/\u001b[0m\u001b[0mlen\u001b[0m\u001b[1;33m(\u001b[0m\u001b[0mparams\u001b[0m\u001b[1;33m)\u001b[0m\u001b[1;33m\u001b[0m\u001b[0m\n\u001b[0m\u001b[0;32m     25\u001b[0m \u001b[1;33m\u001b[0m\u001b[0m\n\u001b[0;32m     26\u001b[0m \u001b[0mresult\u001b[0m \u001b[1;33m=\u001b[0m \u001b[0mmean\u001b[0m\u001b[1;33m(\u001b[0m\u001b[1;36m10\u001b[0m\u001b[1;33m,\u001b[0m \u001b[1;36m20\u001b[0m\u001b[1;33m,\u001b[0m \u001b[1;36m40\u001b[0m\u001b[1;33m)\u001b[0m\u001b[1;33m\u001b[0m\u001b[0m\n",
      "\u001b[1;31mTypeError\u001b[0m: unsupported operand type(s) for +: 'int' and 'str'"
     ]
    }
   ],
   "source": [
    "__report_indent = [0]\n",
    "\n",
    "def report(fn):\n",
    "    \"\"\"Decorator to print information about a function call for debugging.\"\"\"\n",
    "    def wrap(*params,**kwargs):\n",
    "        call = wrap.callcount = wrap.callcount + 1\n",
    "        indent = ' ' * __report_indent[0]\n",
    "        params = ', '.join(\n",
    "            [a.__repr__() for a in params] + [\"{a} = {repr(b)}\" for a,b in kwargs.items()]\n",
    "        )\n",
    "        fc = f\"{fn.__name__}({params})\"\n",
    "        print(f\"{indent}{fc} called [#{call}]\")\n",
    "        __report_indent[0] += 1\n",
    "        ret = fn(*params,**kwargs)\n",
    "        __report_indent[0] -= 1\n",
    "        print(f\"{indent}{fc} returned {repr(ret)} [#{call}]\")\n",
    "\n",
    "        return ret\n",
    "    wrap.callcount = 0\n",
    "    return wrap\n",
    "\n",
    "#### @report\n",
    "def mean(*params):\n",
    "    return sum(params)/len(params)\n",
    "\n",
    "result = mean(10, 20, 40)\n",
    "print(result)\n",
    "\n",
    "@report\n",
    "def fibonacci(n):\n",
    "    if n in [0,1]:\n",
    "        return n\n",
    "    else:\n",
    "        return fibonacci(n - 1) + fibonacci(n - 2)\n",
    "\n",
    "result = fibonacci(4)\n",
    "print(result)"
   ]
  },
  {
   "cell_type": "code",
   "execution_count": 23,
   "metadata": {},
   "outputs": [
    {
     "name": "stdout",
     "output_type": "stream",
     "text": [
      "Entering: func1\n",
      "In: func1()\n",
      "Exited: func1\n",
      "Entering: func2\n",
      "In: func2()\n",
      "Exited: func2\n"
     ]
    }
   ],
   "source": [
    "# Callable Class Decorator\n",
    "class PrintEnterExit(object):\n",
    "    def __init__(self, f):\n",
    "        self.f = f\n",
    "\n",
    "    def __call__(self):\n",
    "        print(\"Entering:\", self.f.__name__)\n",
    "        self.f()\n",
    "        print(\"Exited:\", self.f.__name__)\n",
    "\n",
    "@PrintEnterExit\n",
    "def func1():\n",
    "    print(\"In: func1()\")\n",
    "\n",
    "@PrintEnterExit\n",
    "def func2():\n",
    "    print(\"In: func2()\")\n",
    "\n",
    "func1()\n",
    "func2()"
   ]
  },
  {
   "cell_type": "markdown",
   "metadata": {},
   "source": [
    "## The @staticmethod Decorator"
   ]
  },
  {
   "cell_type": "code",
   "execution_count": null,
   "metadata": {},
   "outputs": [],
   "source": [
    "# ???"
   ]
  },
  {
   "cell_type": "markdown",
   "metadata": {},
   "source": [
    "## The @staticclassmethod Decorator"
   ]
  },
  {
   "cell_type": "code",
   "execution_count": null,
   "metadata": {},
   "outputs": [],
   "source": [
    "# ???"
   ]
  }
 ],
 "metadata": {
  "kernelspec": {
   "display_name": "Python 3",
   "language": "python",
   "name": "python3"
  },
  "language_info": {
   "codemirror_mode": {
    "name": "ipython",
    "version": 3
   },
   "file_extension": ".py",
   "mimetype": "text/x-python",
   "name": "python",
   "nbconvert_exporter": "python",
   "pygments_lexer": "ipython3",
   "version": "3.6.4"
  }
 },
 "nbformat": 4,
 "nbformat_minor": 2
}

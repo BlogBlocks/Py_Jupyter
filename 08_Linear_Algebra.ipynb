{
 "cells": [
  {
   "cell_type": "markdown",
   "metadata": {},
   "source": [
    "# 08 Linear Algebra\n",
    "\n",
    "https://docs.scipy.org/doc/numpy-1.13.0/reference/routines.linalg.html\n",
    "\n",
    "- **```vdot(a, b)```** Return the dot product of two vectors\n",
    "- **```dot(a, b[, out])```** Dot product of two arrays\n",
    "- **```inner(a, b)```** Inner product of two arrays\n",
    "- **```outer(a, b[, out])```** Compute the outer product of two vectors\n",
    "- **```linalg.solve(a, b)```** Solve a linear matrix equation, or system of linear scalar equations\n",
    "- **```linalg.inv(a)```** Compute the (multiplicative) inverse of a matrix\n",
    "- **```linalg.det(a)```** Compute the determinant of an array\n",
    "- **```linalg.eig(a)```** Compute the eigenvalues and right eigenvectors of a square array\n",
    "- **```linalg.eigvals(a)```** Compute the eigenvalues of a general matrix\n",
    "- **```matmul(a, b[, out])```** Matrix product of two arrays\n",
    "- etc."
   ]
  },
  {
   "cell_type": "code",
   "execution_count": 5,
   "metadata": {},
   "outputs": [
    {
     "name": "stdout",
     "output_type": "stream",
     "text": [
      "[2, 6, 12]\n",
      "[ 2  6 12]\n"
     ]
    }
   ],
   "source": [
    "import numpy as np\n",
    "\n",
    "# Multiply two arrays without numpy\n",
    "x = [1,2,3]\n",
    "y = [2,3,4]\n",
    "product = []\n",
    "for i in range(len(x)):\n",
    "    product.append(x[i]*y[i])\n",
    "print(product)\n",
    "\n",
    "# Multiply two arrays with numpy\n",
    "x = np.array([1,2,3])\n",
    "y = np.array([2,3,4])\n",
    "product = x * y\n",
    "print(product)"
   ]
  },
  {
   "cell_type": "code",
   "execution_count": 1,
   "metadata": {},
   "outputs": [
    {
     "name": "stdout",
     "output_type": "stream",
     "text": [
      "Numpy Demo\n",
      "\n",
      "first_array:\n",
      "[[ 1.   2.   3. ]\n",
      " [ 3.   4.   6.7]\n",
      " [ 5.   9.   5. ]]\n",
      "\n",
      "transpose_array:\n",
      "[[ 1.   3.   5. ]\n",
      " [ 2.   4.   9. ]\n",
      " [ 3.   6.7  5. ]]\n",
      "\n",
      "inverse_array:\n",
      "[[-2.27683616  0.96045198  0.07909605]\n",
      " [ 1.04519774 -0.56497175  0.1299435 ]\n",
      " [ 0.39548023  0.05649718 -0.11299435]]\n",
      "\n",
      "second_array/first_array:\n",
      "[-4.83050847  2.13559322  1.18644068]\n",
      "\n",
      "third_array:\n",
      "[[  9.74450346  11.34947547   7.04070667]\n",
      " [  3.9065578   13.55808118  16.40431322]\n",
      " [  4.30867454   9.8769072   12.83880343]]\n",
      "\n",
      "dot_prod:\n",
      "[[  30.48364268   68.09635944   78.3657434 ]\n",
      " [  73.727861    154.45602939  172.75935588]\n",
      " [ 105.42491021  228.15464401  247.03636949]]\n"
     ]
    }
   ],
   "source": [
    "# numpy_dot_prod.py\n",
    "\n",
    "import numpy as np\n",
    "from numpy.random import rand\n",
    "from numpy.linalg import solve, inv\n",
    "\n",
    "print(\"Numpy Demo\")\n",
    "\n",
    "# define 3x3 array named first_array\n",
    "first_array = np.array([[1, 2, 3], [3, 4, 6.7], [5, 9.0, 5]])\n",
    "print(\"\\nfirst_array:\")\n",
    "print(first_array)\n",
    "\n",
    "# calculate transpose of first_array\n",
    "transpose_array = first_array.transpose()\n",
    "print(\"\\ntranspose_array:\")\n",
    "print(transpose_array)\n",
    "\n",
    "# calculate inverse of first_array\n",
    "inverse_array = inv(first_array)\n",
    "print(\"\\ninverse_array:\")\n",
    "print(inverse_array)\n",
    "\n",
    "# solve -> first_array * x = second_array\n",
    "second_array =  np.array([3, 2, 1])\n",
    "x = solve(first_array, second_array)\n",
    "print(\"\\nsecond_array/first_array:\")\n",
    "print(x)\n",
    "\n",
    "# create a 3x3 random matrix of values within [0,1] scaled by 20\n",
    "third_array = rand(3, 3) * 20\n",
    "print(\"\\nthird_array:\")\n",
    "print(third_array)\n",
    "\n",
    "# calculate dot product of first_array * third_array\n",
    "dot_prod = np.dot(first_array, third_array)\n",
    "print(\"\\ndot_prod:\")\n",
    "print(dot_prod)"
   ]
  },
  {
   "cell_type": "markdown",
   "metadata": {
    "collapsed": true
   },
   "source": [
    "## **```vdot(a, b)```**\n",
    "Return the dot product of two vectors"
   ]
  },
  {
   "cell_type": "code",
   "execution_count": 4,
   "metadata": {},
   "outputs": [
    {
     "name": "stdout",
     "output_type": "stream",
     "text": [
      "(70-8j)\n",
      "(70+8j)\n",
      "30\n",
      "30\n"
     ]
    }
   ],
   "source": [
    "import numpy as np\n",
    "\n",
    "a = np.array([1+2j,3+4j])\n",
    "b = np.array([5+6j,7+8j])\n",
    "\n",
    "x = np.vdot(a, b)\n",
    "print(x)\n",
    "\n",
    "x = np.vdot(b, a)\n",
    "print(x)\n",
    "\n",
    "a = np.array([[1, 4], [5, 6]])\n",
    "b = np.array([[4, 1], [2, 2]])\n",
    "\n",
    "x = np.vdot(a, b)\n",
    "print(x)\n",
    "\n",
    "x = np.vdot(b, a)\n",
    "print(x)\n"
   ]
  },
  {
   "cell_type": "markdown",
   "metadata": {},
   "source": [
    "## **```dot(a, b[, out])```**\n",
    "Dot product of two arrays"
   ]
  },
  {
   "cell_type": "code",
   "execution_count": null,
   "metadata": {
    "collapsed": true
   },
   "outputs": [],
   "source": []
  },
  {
   "cell_type": "markdown",
   "metadata": {},
   "source": [
    "## **```inner(a, b)```**\n",
    "Inner product of two arrays"
   ]
  },
  {
   "cell_type": "code",
   "execution_count": null,
   "metadata": {
    "collapsed": true
   },
   "outputs": [],
   "source": []
  },
  {
   "cell_type": "markdown",
   "metadata": {},
   "source": [
    "## **```outer(a, b[, out])```**\n",
    "Compute the outer product of two vectors"
   ]
  },
  {
   "cell_type": "code",
   "execution_count": null,
   "metadata": {
    "collapsed": true
   },
   "outputs": [],
   "source": []
  },
  {
   "cell_type": "markdown",
   "metadata": {},
   "source": [
    "## **```linalg.solve(a, b)```**\n",
    "Solve a linear matrix equation, or system of linear scalar equations"
   ]
  },
  {
   "cell_type": "code",
   "execution_count": null,
   "metadata": {
    "collapsed": true
   },
   "outputs": [],
   "source": []
  },
  {
   "cell_type": "markdown",
   "metadata": {},
   "source": [
    "## **```linalg.inv(a)```**\n",
    "Compute the (multiplicative) inverse of a matrix"
   ]
  },
  {
   "cell_type": "code",
   "execution_count": null,
   "metadata": {
    "collapsed": true
   },
   "outputs": [],
   "source": []
  },
  {
   "cell_type": "markdown",
   "metadata": {},
   "source": [
    "## **```linalg.det(a)```**\n",
    "Compute the determinant of an array"
   ]
  },
  {
   "cell_type": "code",
   "execution_count": null,
   "metadata": {
    "collapsed": true
   },
   "outputs": [],
   "source": []
  },
  {
   "cell_type": "markdown",
   "metadata": {},
   "source": [
    "## **```linalg.eig(a)```**\n",
    "Compute the eigenvalues and right eigenvectors of a square array"
   ]
  },
  {
   "cell_type": "code",
   "execution_count": null,
   "metadata": {
    "collapsed": true
   },
   "outputs": [],
   "source": []
  },
  {
   "cell_type": "markdown",
   "metadata": {},
   "source": [
    "## **```linalg.eigvals(a)```**\n",
    "Compute the eigenvalues of a general matrix"
   ]
  },
  {
   "cell_type": "code",
   "execution_count": null,
   "metadata": {
    "collapsed": true
   },
   "outputs": [],
   "source": []
  },
  {
   "cell_type": "markdown",
   "metadata": {},
   "source": [
    "## **```matmul(a, b[, out])```**\n",
    "Matrix product of two arrays"
   ]
  },
  {
   "cell_type": "markdown",
   "metadata": {
    "collapsed": true
   },
   "source": [
    "# Rotate Vector"
   ]
  },
  {
   "cell_type": "code",
   "execution_count": null,
   "metadata": {
    "collapsed": true
   },
   "outputs": [],
   "source": [
    "%matplotlib inline\n",
    "\n",
    "import numpy as np\n",
    "import matplotlib.pyplot as plt\n",
    "\n",
    "theta = np.radians(30)\n",
    "c, s = np.cos(theta), np.sin(theta)\n",
    "R = np.matrix('{} {}; {} {}'.format(c, -s, s, c))\n",
    "print(R)\n",
    "\n",
    "x = np.array([1, 2])\n",
    "print(x)\n",
    "y = R.dot(x)\n",
    "print(y)\n",
    "\n",
    "To be completed"
   ]
  }
 ],
 "metadata": {
  "kernelspec": {
   "display_name": "Python 3",
   "language": "python",
   "name": "python3"
  },
  "language_info": {
   "codemirror_mode": {
    "name": "ipython",
    "version": 3
   },
   "file_extension": ".py",
   "mimetype": "text/x-python",
   "name": "python",
   "nbconvert_exporter": "python",
   "pygments_lexer": "ipython3",
   "version": "3.6.3"
  }
 },
 "nbformat": 4,
 "nbformat_minor": 2
}

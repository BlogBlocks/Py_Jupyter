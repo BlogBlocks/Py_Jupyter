{
 "cells": [
  {
   "cell_type": "markdown",
   "metadata": {},
   "source": [
    "## Discrete Random Variables\n",
    "\n",
    "See: http://nbviewer.jupyter.org/github/mbakker7/exploratory_computing_with_python/blob/master/notebook9_discrete_random_variables/py_exploratory_comp_9_sol.ipynb\n",
    " "
   ]
  },
  {
   "cell_type": "code",
   "execution_count": null,
   "metadata": {
    "collapsed": true
   },
   "outputs": [],
   "source": [
    "## The ranint() and seed() Functions"
   ]
  },
  {
   "cell_type": "code",
   "execution_count": 2,
   "metadata": {},
   "outputs": [
    {
     "name": "stdout",
     "output_type": "stream",
     "text": [
      "[0 1 1 0 0 1 0 0 0 0]\n",
      "[0 1 0 0 1 1 0 0 1 0]\n",
      "[1 1 0 1 0 1 1 0 1 1]\n",
      "[1 1 0 1 0 1 1 0 1 1]\n"
     ]
    }
   ],
   "source": [
    "%matplotlib inline\n",
    "\n",
    "import numpy as np\n",
    "import matplotlib.pyplot as plt\n",
    "import numpy.random as rnd\n",
    "\n",
    "print(rnd.randint(0, 1 + 1, 10)) # (low, high, size)\n",
    "\n",
    "print(rnd.randint(0, 1 + 1, 10))\n",
    "\n",
    "rnd.seed(10)\n",
    "print(rnd.randint(0, 1 + 1, 10))\n",
    "\n",
    "rnd.seed(10)\n",
    "print(rnd.randint(0, 1 + 1, 10))"
   ]
  },
  {
   "cell_type": "markdown",
   "metadata": {},
   "source": [
    "## Flipping a coin"
   ]
  },
  {
   "cell_type": "code",
   "execution_count": 6,
   "metadata": {},
   "outputs": [
    {
     "name": "stdout",
     "output_type": "stream",
     "text": [
      "number of heads: 50\n",
      "number of tails: 50\n",
      "headcount 50\n",
      "tailcount 50\n",
      "outcome  0  is  50\n",
      "outcome  1  is  50\n"
     ]
    }
   ],
   "source": [
    "# Flipping a coin\n",
    "\n",
    "import numpy as np\n",
    "import numpy.random as rnd\n",
    "\n",
    "flip = rnd.randint(0, 1 + 1, 100)\n",
    "headcount = 0\n",
    "tailcount = 0\n",
    "for i in range(100):\n",
    "    if flip[i] == 0:\n",
    "        headcount += 1\n",
    "    else:\n",
    "        tailcount += 1\n",
    "print('number of heads:', headcount)\n",
    "print('number of tails:', tailcount)\n",
    "\n",
    "headcount = np.count_nonzero(flip == 0)\n",
    "tailcount = np.count_nonzero(flip == 1)\n",
    "print('headcount', headcount)\n",
    "print('tailcount', tailcount)\n",
    "\n",
    "outcomes = np.zeros(2, dtype='int') # Two outcomes. heads are stored in outcome[0], tails in outcome[1]\n",
    "for i in range (2):\n",
    "    outcomes[i] = np.count_nonzero(flip == i)\n",
    "    print('outcome ', i, ' is ', outcomes[i])"
   ]
  },
  {
   "cell_type": "markdown",
   "metadata": {},
   "source": [
    "## Throwing a dice"
   ]
  },
  {
   "cell_type": "code",
   "execution_count": 7,
   "metadata": {},
   "outputs": [
    {
     "name": "stdout",
     "output_type": "stream",
     "text": [
      "number of times 1 is 17\n",
      "number of times 2 is 17\n",
      "number of times 3 is 15\n",
      "number of times 4 is 24\n",
      "number of times 5 is 19\n",
      "number of times 6 is 8\n",
      "total number of throws  100\n"
     ]
    }
   ],
   "source": [
    "## Throwing a dice\n",
    "\n",
    "import numpy as np\n",
    "import numpy.random as rnd\n",
    "\n",
    "rnd.seed(33)\n",
    "dicethrow = rnd.randint(1, 6 + 1, 100)\n",
    "side = np.zeros(6, dtype='int')\n",
    "for i in range(6):\n",
    "    side[i] = np.count_nonzero(dicethrow == i + 1)\n",
    "    print('number of times', i + 1, 'is', side[i])\n",
    "print('total number of throws ', sum(side))"
   ]
  },
  {
   "cell_type": "markdown",
   "metadata": {},
   "source": [
    "## Flipping a coin twice"
   ]
  },
  {
   "cell_type": "code",
   "execution_count": 9,
   "metadata": {},
   "outputs": [
    {
     "name": "stdout",
     "output_type": "stream",
     "text": [
      "number of 0, 1, 2 tails: [27 47 26]\n"
     ]
    },
    {
     "data": {
      "text/plain": [
       "True"
      ]
     },
     "execution_count": 9,
     "metadata": {},
     "output_type": "execute_result"
    }
   ],
   "source": [
    "import numpy as np\n",
    "import numpy.random as rnd\n",
    "\n",
    "rnd.seed(55)\n",
    "flips = rnd.randint(low=0, high=1 + 1, size=(2, 100))\n",
    "tails = np.sum(flips, axis=0)\n",
    "number_of_tails = np.zeros(3, dtype='int')\n",
    "for i in range(3):\n",
    "    number_of_tails[i] = np.count_nonzero(tails == i)\n",
    "print('number of 0, 1, 2 tails:', number_of_tails)\n",
    "\n",
    "rnd.seed(55)\n",
    "flips1 = rnd.randint(low=0, high=1 + 1, size=5)\n",
    "rnd.seed(55)\n",
    "flips2 = rnd.choice(range(2), size=5, replace=True)\n",
    "np.alltrue(flips1 == flips2)  # Check whether all values in the two arrays are equal"
   ]
  },
  {
   "cell_type": "markdown",
   "metadata": {},
   "source": [
    "## Bar graph"
   ]
  },
  {
   "cell_type": "code",
   "execution_count": 19,
   "metadata": {},
   "outputs": [
    {
     "data": {
      "image/png": "[encoded data removed]",
      "text/plain": [
       "<matplotlib.figure.Figure at 0x1ceb420d7f0>"
      ]
     },
     "metadata": {},
     "output_type": "display_data"
    }
   ],
   "source": [
    "%matplotlib inline\n",
    "\n",
    "import numpy as np\n",
    "import matplotlib.pyplot as plt\n",
    "\n",
    "number_of_tails = np.zeros(3, dtype='int')\n",
    "for i in range(3):\n",
    "    number_of_tails[i] = np.count_nonzero(tails == i)\n",
    "\n",
    "plt.bar(range(0, 3), number_of_tails)\n",
    "plt.xticks(range(0, 3))\n",
    "plt.xlabel('number of tails')\n",
    "plt.ylabel('occurence in 100 trials');"
   ]
  },
  {
   "cell_type": "markdown",
   "metadata": {},
   "source": [
    "## Cumulative Probability"
   ]
  },
  {
   "cell_type": "code",
   "execution_count": 18,
   "metadata": {},
   "outputs": [
    {
     "name": "stdout",
     "output_type": "stream",
     "text": [
      "cum_prob  [ 0.27  0.74  1.  ]\n"
     ]
    },
    {
     "data": {
      "image/png": "[encoded data removed]",
      "text/plain": [
       "<matplotlib.figure.Figure at 0x1ceb4291630>"
      ]
     },
     "metadata": {},
     "output_type": "display_data"
    }
   ],
   "source": [
    "%matplotlib inline\n",
    "\n",
    "import numpy as np\n",
    "import matplotlib.pyplot as plt\n",
    "\n",
    "prob = number_of_tails / 100  # number_of_tails was computed two code cells back\n",
    "cum_prob = np.cumsum(prob) # So cum_prob[0] = prob[0], cum_prob[1] = prob[0] + prob[1], etc.\n",
    "print('cum_prob ', cum_prob)\n",
    "\n",
    "plt.bar(range(0, 3), cum_prob, width=1)\n",
    "plt.xticks(range(0, 3))\n",
    "plt.xlabel('number of tails in two flips')\n",
    "plt.ylabel('cumulative probability');"
   ]
  },
  {
   "cell_type": "markdown",
   "metadata": {},
   "source": [
    "## Flip a coin five times"
   ]
  },
  {
   "cell_type": "code",
   "execution_count": 20,
   "metadata": {},
   "outputs": [
    {
     "data": {
      "image/png": "[encoded data removed]",
      "text/plain": [
       "<matplotlib.figure.Figure at 0x1ceb431cb70>"
      ]
     },
     "metadata": {},
     "output_type": "display_data"
    }
   ],
   "source": [
    "%matplotlib inline\n",
    "\n",
    "import numpy as np\n",
    "import matplotlib.pyplot as plt\n",
    "\n",
    "N = 1000\n",
    "tails = np.sum(rnd.randint(0, 1 + 1, (5, 1000)), axis=0)\n",
    "counttails = np.zeros(6, dtype='int')\n",
    "for i in range(6):\n",
    "    counttails[i] = np.count_nonzero(tails == i)\n",
    "plt.bar(range(0, 6), counttails / N)\n",
    "plt.xlabel('number of tails in five flips')\n",
    "plt.ylabel('probability');"
   ]
  },
  {
   "cell_type": "markdown",
   "metadata": {},
   "source": [
    "## Flip a coin 5 times revisited"
   ]
  },
  {
   "cell_type": "code",
   "execution_count": 24,
   "metadata": {},
   "outputs": [
    {
     "name": "stdout",
     "output_type": "stream",
     "text": [
      "Theoretical probabilities:\n",
      "0  tails  0.03125\n",
      "1  tails  0.15625\n",
      "2  tails  0.3125\n",
      "3  tails  0.3125\n",
      "4  tails  0.15625\n",
      "5  tails  0.03125\n",
      "Probability with 1000 trials:  [ 0.033  0.151  0.307  0.321  0.156  0.032]\n",
      "Probability with 10000 trials:  [ 0.0311  0.1552  0.3094  0.317   0.1547  0.0326]\n",
      "Probability with 100000 trials:  [ 0.03147  0.15411  0.31099  0.31445  0.15853  0.03045]\n"
     ]
    }
   ],
   "source": [
    "from scipy.special import comb\n",
    "print('Theoretical probabilities:')\n",
    "for k in range(6):\n",
    "    print(k, ' tails ', comb(5, k) * 0.5 ** k * 0.5 ** (5 - k))\n",
    "for N in (1000, 10000, 100000):\n",
    "    tails = np.sum(rnd.randint(0, 1 + 1, (5, N)), axis=0)\n",
    "    counttails = np.zeros(6)\n",
    "    for i in range(6):\n",
    "        counttails[i] = np.count_nonzero(tails==i)\n",
    "    print('Probability with', N, 'trials: ', counttails / float(N))"
   ]
  },
  {
   "cell_type": "markdown",
   "metadata": {},
   "source": [
    "## Maximum value of two dice throws"
   ]
  },
  {
   "cell_type": "code",
   "execution_count": 26,
   "metadata": {},
   "outputs": [
    {
     "data": {
      "image/png": "[encoded data removed]",
      "text/plain": [
       "<matplotlib.figure.Figure at 0x1ceb57ddc88>"
      ]
     },
     "metadata": {},
     "output_type": "display_data"
    }
   ],
   "source": [
    "%matplotlib inline\n",
    "\n",
    "import numpy as np\n",
    "import matplotlib.pyplot as plt\n",
    "\n",
    "dice = rnd.randint(1, 6 + 1, (2, 1000))\n",
    "highest_dice = np.max(dice, 0)\n",
    "outcome = np.zeros(6)\n",
    "for i in range(6):\n",
    "    outcome[i] = np.sum(highest_dice == i + 1) / 1000\n",
    "plt.bar(x=np.arange(1, 7), height=outcome, width=1)\n",
    "plt.xlabel('highest dice in two throws')\n",
    "plt.ylabel('probability');"
   ]
  },
  {
   "cell_type": "markdown",
   "metadata": {},
   "source": [
    "## Maximum value of two dice throws revisited"
   ]
  },
  {
   "cell_type": "code",
   "execution_count": 27,
   "metadata": {},
   "outputs": [
    {
     "name": "stdout",
     "output_type": "stream",
     "text": [
      "Outcome for 100 throws:  [ 0.04  0.05  0.16  0.19  0.24  0.32]\n",
      "Outcome for 1000 throws:  [ 0.032  0.082  0.139  0.2    0.229  0.318]\n",
      "Outcome for 10000 throws:  [ 0.0265  0.0846  0.1354  0.1945  0.2542  0.3048]\n",
      "Exact probabilities:  [ 0.02777778  0.08333333  0.13888889  0.19444444  0.25        0.30555556]\n"
     ]
    }
   ],
   "source": [
    "%matplotlib inline\n",
    "\n",
    "import numpy as np\n",
    "import matplotlib.pyplot as plt\n",
    "\n",
    "for N in [100, 1000, 10000]:\n",
    "    dice = rnd.randint(1, 6 + 1, (2, N))\n",
    "    highest_dice = np.max(dice, axis=0)\n",
    "    outcome = np.zeros(6)\n",
    "    for i in range(6):\n",
    "        outcome[i] = np.sum(highest_dice == i + 1) / N\n",
    "    print('Outcome for', N, 'throws: ', outcome)\n",
    "# Exact values\n",
    "exact = np.zeros(6)\n",
    "for i, j in enumerate(range(1, 12, 2)):\n",
    "    exact[i] = j / 36\n",
    "print('Exact probabilities: ',exact)"
   ]
  },
  {
   "cell_type": "markdown",
   "metadata": {},
   "source": [
    "## Election poll"
   ]
  },
  {
   "cell_type": "code",
   "execution_count": 28,
   "metadata": {},
   "outputs": [
    {
     "name": "stdout",
     "output_type": "stream",
     "text": [
      "poled for A: 508\n",
      "The Dog will predict the wrong winner\n",
      "1000 poles of 1000 people\n",
      "Probability that The Dog predicts candidate A to win: 0.267\n",
      "1000 poles of 5000 people\n",
      "Probability that The Dog predicts candidate A to win: 0.014\n"
     ]
    }
   ],
   "source": [
    "%matplotlib inline\n",
    "\n",
    "import numpy as np\n",
    "import matplotlib.pyplot as plt\n",
    "\n",
    "rnd.seed(2)\n",
    "people = np.zeros(1000000, dtype='int')  # candidate A is 0\n",
    "people[490000:] = 1  # candidate B is 1\n",
    "pole = rnd.choice(people, 1000)\n",
    "poled_for_A = np.count_nonzero(pole == 0)\n",
    "print('poled for A:', poled_for_A)\n",
    "if poled_for_A > 500: \n",
    "    print('The Dog will predict the wrong winner')\n",
    "else:\n",
    "    print('The Dog will predict the correct winner')\n",
    "    \n",
    "Awins = 0\n",
    "Bwins = 0\n",
    "for i in range(1000):\n",
    "    people = np.zeros(1000000, dtype='int')  # candidate A is 0\n",
    "    people[490000:] = 1  # candidate B is 1\n",
    "    pole = rnd.choice(people, 1000)\n",
    "    poled_for_A = np.count_nonzero(pole == 0)\n",
    "    if poled_for_A > 500: \n",
    "        Awins += 1\n",
    "    else:\n",
    "        Bwins += 1\n",
    "print('1000 poles of 1000 people')\n",
    "print('Probability that The Dog predicts candidate A to win:', Awins / 1000)\n",
    "\n",
    "Awins = 0\n",
    "Bwins = 0\n",
    "for i in range(1000):\n",
    "    people = np.zeros(1000000, dtype='int')  # candidate A is 0\n",
    "    people[490000:] = 1  # candidate B is 1\n",
    "    pole = rnd.choice(people, 5000)\n",
    "    poled_for_A = np.count_nonzero(pole == 0)\n",
    "    if poled_for_A > 2500: \n",
    "        Awins += 1\n",
    "    else:\n",
    "        Bwins += 1\n",
    "print('1000 poles of 5000 people')\n",
    "print('Probability that The Dog predicts candidate A to win:', Awins / 5000)"
   ]
  },
  {
   "cell_type": "code",
   "execution_count": null,
   "metadata": {
    "collapsed": true
   },
   "outputs": [],
   "source": []
  }
 ],
 "metadata": {
  "kernelspec": {
   "display_name": "Python 3",
   "language": "python",
   "name": "python3"
  },
  "language_info": {
   "codemirror_mode": {
    "name": "ipython",
    "version": 3
   },
   "file_extension": ".py",
   "mimetype": "text/x-python",
   "name": "python",
   "nbconvert_exporter": "python",
   "pygments_lexer": "ipython3",
   "version": "3.6.3"
  }
 },
 "nbformat": 4,
 "nbformat_minor": 2
}

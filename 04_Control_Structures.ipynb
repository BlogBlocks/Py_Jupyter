{
 "cells": [
  {
   "cell_type": "markdown",
   "metadata": {},
   "source": [
    "# 04 Control Structures"
   ]
  },
  {
   "cell_type": "markdown",
   "metadata": {
    "collapsed": true
   },
   "source": [
    "## Loops "
   ]
  },
  {
   "cell_type": "code",
   "execution_count": 1,
   "metadata": {},
   "outputs": [
    {
     "name": "stdout",
     "output_type": "stream",
     "text": [
      "42\n",
      "21\n",
      "12\n",
      "16\n",
      "77\n",
      "Done\n"
     ]
    }
   ],
   "source": [
    "for number in [42, 21, 12, 16, 77]: \n",
    "    print(number)\n",
    "print('Done')"
   ]
  },
  {
   "cell_type": "code",
   "execution_count": 2,
   "metadata": {},
   "outputs": [
    {
     "name": "stdout",
     "output_type": "stream",
     "text": [
      "0 Sally\n",
      "1 John\n",
      "2 Jake\n",
      "3 Fran\n",
      "4 Bill\n"
     ]
    }
   ],
   "source": [
    "people = ['Sally', 'John', 'Jake', 'Fran', 'Bill']\n",
    "for index, person in enumerate(people):\n",
    "    print(index, person)"
   ]
  },
  {
   "cell_type": "code",
   "execution_count": 3,
   "metadata": {},
   "outputs": [
    {
     "data": {
      "text/plain": [
       "['the',\n",
       " 'best',\n",
       " 'of',\n",
       " 'times,',\n",
       " 'it',\n",
       " 'the',\n",
       " 'worst',\n",
       " 'of',\n",
       " 'times,',\n",
       " 'it',\n",
       " 'the',\n",
       " 'age',\n",
       " 'of',\n",
       " 'wisdom,',\n",
       " 'it',\n",
       " 'the',\n",
       " 'age',\n",
       " 'of',\n",
       " 'foolishness,',\n",
       " 'it',\n",
       " 'the',\n",
       " 'epoch',\n",
       " 'of',\n",
       " 'belief,',\n",
       " 'it',\n",
       " 'the',\n",
       " 'epoch',\n",
       " 'of',\n",
       " 'incredulity,',\n",
       " 'it',\n",
       " 'the',\n",
       " 'season',\n",
       " 'of',\n",
       " 'Light,',\n",
       " 'it',\n",
       " 'the',\n",
       " 'season',\n",
       " 'of',\n",
       " 'Darkness,',\n",
       " 'it',\n",
       " 'the',\n",
       " 'spring',\n",
       " 'of',\n",
       " 'hope,',\n",
       " 'it',\n",
       " 'the',\n",
       " 'winter',\n",
       " 'of',\n",
       " 'despair.']"
      ]
     },
     "execution_count": 3,
     "metadata": {},
     "output_type": "execute_result"
    }
   ],
   "source": [
    "text = 'It was the best of times, it was the worst of times, it was the age of wisdom, it was the age of foolishness, it was the epoch of belief, it was the epoch of incredulity, it was the season of Light, it was the season of Darkness, it was the spring of hope, it was the winter of despair.'\n",
    "mylist = []\n",
    "\n",
    "for word in text.split(' '): \n",
    "    if word == 'was':\n",
    "        continue\n",
    "    mylist.append(word)\n",
    "mylist[1:len(mylist)]"
   ]
  },
  {
   "cell_type": "code",
   "execution_count": 4,
   "metadata": {},
   "outputs": [
    {
     "name": "stdout",
     "output_type": "stream",
     "text": [
      "...........................found 'epoch'\n"
     ]
    }
   ],
   "source": [
    "text = 'It was the best of times, it was the worst of times, it was the age of wisdom, it was the age of foolishness, it was the epoch of belief, it was the epoch of incredulity, it was the season of Light, it was the season of Darkness, it was the spring of hope, it was the winter of despair.'\n",
    "mylist = []\n",
    "\n",
    "for word in text.split(' '): \n",
    "    if word == 'epoch':\n",
    "        print(\"found 'epoch'\")\n",
    "        break\n",
    "    else:\n",
    "        print('.', end='')"
   ]
  },
  {
   "cell_type": "code",
   "execution_count": null,
   "metadata": {
    "collapsed": true
   },
   "outputs": [],
   "source": []
  }
 ],
 "metadata": {
  "kernelspec": {
   "display_name": "Python 3",
   "language": "python",
   "name": "python3"
  },
  "language_info": {
   "codemirror_mode": {
    "name": "ipython",
    "version": 3
   },
   "file_extension": ".py",
   "mimetype": "text/x-python",
   "name": "python",
   "nbconvert_exporter": "python",
   "pygments_lexer": "ipython3",
   "version": "3.6.3"
  }
 },
 "nbformat": 4,
 "nbformat_minor": 2
}

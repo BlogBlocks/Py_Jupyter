{
 "cells": [
  {
   "cell_type": "markdown",
   "metadata": {},
   "source": [
    "# 02 Simple Syntax\n",
    "\n",
    "See: https://github.com/rajathkmp/Python-Lectures/blob/master/01.ipynb  "
   ]
  },
  {
   "cell_type": "markdown",
   "metadata": {},
   "source": [
    "## The print Statement\n",
    "\n",
    "The print statement can be used in several ways:\n",
    "- ```print(\"Hello World\")```\n",
    "- ```print(\"Hello\", <Variable containing string>)```\n",
    "- ```print(\"Hello\" + <Variable containing string>)```\n",
    "- ```print(\"Hello %s\" % <variable containing string>)```"
   ]
  },
  {
   "cell_type": "code",
   "execution_count": 1,
   "metadata": {},
   "outputs": [
    {
     "name": "stdout",
     "output_type": "stream",
     "text": [
      "Hello World\n",
      "Hello 42\n",
      "Hello World\n",
      "Hello 42\n"
     ]
    }
   ],
   "source": [
    "print(\"Hello World\")\n",
    "print(\"Hello\", 42)\n",
    "x = 'World'\n",
    "print(\"Hello \" + x)\n",
    "print(\"Hello %s\" % \"42\")"
   ]
  },
  {
   "cell_type": "markdown",
   "metadata": {
    "collapsed": true
   },
   "source": [
    "The print statement can be used in the following different ways :\n",
    "- print \"Hello World\"\n",
    "- print \"Hello\", <Variable Containing the String>\n",
    "- print \"Hello\" + <Variable Containing the String>\n",
    "- print \"Hello %s\" % <variable containing the string>"
   ]
  },
  {
   "cell_type": "markdown",
   "metadata": {},
   "source": [
    "## String Formatting\n",
    "- %s -> string\n",
    "- %d -> integer\n",
    "- %f -> float\n",
    "- %o -> octal\n",
    "- %x -> hexadecimal\n",
    "- %e -> exponential"
   ]
  },
  {
   "cell_type": "code",
   "execution_count": 5,
   "metadata": {},
   "outputs": [
    {
     "name": "stdout",
     "output_type": "stream",
     "text": [
      "a, b, c\n"
     ]
    }
   ],
   "source": [
    "x = '{0}, {1}, {2}'.format('a', 'b', 'c')\n",
    "print(x)\n",
    "\n",
    "#print(\"Number: = %d\", %42) ????????????????????????\n",
    "#print(\"Float: = %f\", %42)\n",
    "#print(\"Octal: = %o\", %42)\n",
    "#print(\"Hexadecimal: %x\", %42)\n",
    "#print(\"Exponential: = %e\", %42)"
   ]
  },
  {
   "cell_type": "markdown",
   "metadata": {},
   "source": [
    "## Precision and Width"
   ]
  },
  {
   "cell_type": "code",
   "execution_count": null,
   "metadata": {
    "collapsed": true
   },
   "outputs": [],
   "source": []
  },
  {
   "cell_type": "markdown",
   "metadata": {},
   "source": [
    "## Dynamic Typing"
   ]
  },
  {
   "cell_type": "code",
   "execution_count": null,
   "metadata": {
    "collapsed": true
   },
   "outputs": [],
   "source": []
  },
  {
   "cell_type": "markdown",
   "metadata": {
    "collapsed": true
   },
   "source": [
    "## Variables"
   ]
  },
  {
   "cell_type": "code",
   "execution_count": 3,
   "metadata": {},
   "outputs": [
    {
     "data": {
      "text/plain": [
       "10"
      ]
     },
     "execution_count": 3,
     "metadata": {},
     "output_type": "execute_result"
    }
   ],
   "source": [
    "# variables can be defined and values can be assigned\n",
    "x = 2\n",
    "y = 5\n",
    "xy = 2*5\n",
    "xy"
   ]
  },
  {
   "cell_type": "code",
   "execution_count": 6,
   "metadata": {},
   "outputs": [
    {
     "data": {
      "text/plain": [
       "2"
      ]
     },
     "execution_count": 6,
     "metadata": {},
     "output_type": "execute_result"
    }
   ],
   "source": [
    "# multiple assignts in single statement\n",
    "x = y = 1\n",
    "x+y"
   ]
  },
  {
   "cell_type": "code",
   "execution_count": 5,
   "metadata": {},
   "outputs": [
    {
     "data": {
      "text/plain": [
       "2"
      ]
     },
     "execution_count": 5,
     "metadata": {},
     "output_type": "execute_result"
    }
   ],
   "source": [
    "x"
   ]
  },
  {
   "cell_type": "markdown",
   "metadata": {},
   "source": [
    "## Arithmetic Operators"
   ]
  },
  {
   "cell_type": "code",
   "execution_count": 14,
   "metadata": {},
   "outputs": [
    {
     "name": "stdout",
     "output_type": "stream",
     "text": [
      "13\n",
      "7\n",
      "30\n",
      "3.3333333333333335\n",
      "1\n",
      "3\n",
      "1000\n"
     ]
    }
   ],
   "source": [
    "# arithmetic operators\n",
    "print(10+3) # addition\n",
    "print(10-3) # subtraction\n",
    "print(10*3) # division\n",
    "print(10/3) # multiplication\n",
    "print(10%3) # mod\n",
    "print(10//3) # floor division\n",
    "print(10**3) # power"
   ]
  },
  {
   "cell_type": "markdown",
   "metadata": {},
   "source": [
    "## Relational Operators"
   ]
  },
  {
   "cell_type": "code",
   "execution_count": 15,
   "metadata": {},
   "outputs": [
    {
     "name": "stdout",
     "output_type": "stream",
     "text": [
      "True\n",
      "True\n",
      "False\n",
      "False\n",
      "True\n",
      "True\n"
     ]
    }
   ],
   "source": [
    "# relational operators\n",
    "x = 42\n",
    "print(x == 42) # equal\n",
    "print(x != 43) # not equal\n",
    "print(x <  42) # less than\n",
    "print(x >  42) # greater than\n",
    "print(x <= 42) # less than or equal\n",
    "print(x >= 42) # greater than or equal"
   ]
  },
  {
   "cell_type": "markdown",
   "metadata": {},
   "source": [
    "## Logical Operators"
   ]
  },
  {
   "cell_type": "code",
   "execution_count": 18,
   "metadata": {},
   "outputs": [
    {
     "name": "stdout",
     "output_type": "stream",
     "text": [
      "False\n",
      "True\n",
      "False\n"
     ]
    }
   ],
   "source": [
    "# logical operators\n",
    "x = True\n",
    "y = False\n",
    "print(x and y) # true if both operands are true, false otherwise\n",
    "print(x or y)  # true if either operand is true, false otherwise\n",
    "print(not x)   # true if operand false, false otherwise"
   ]
  },
  {
   "cell_type": "markdown",
   "metadata": {},
   "source": [
    "## Bitwise Operators"
   ]
  },
  {
   "cell_type": "code",
   "execution_count": 17,
   "metadata": {},
   "outputs": [
    {
     "name": "stdout",
     "output_type": "stream",
     "text": [
      "0\n",
      "7\n",
      "7\n",
      "-6\n",
      "1\n",
      "20\n"
     ]
    }
   ],
   "source": [
    "# bitwise operators\n",
    "x = 5        #               00000101\n",
    "print(x & 2) # and           00000000 =  00000101 & 00000010\n",
    "print(x | 2) # or            00000111 =  00000101 | 00000010\n",
    "print(x ^ 2) # xor           00000111 =  00000101 ^ 00000010\n",
    "print(~x)  # not             11111010 = ~00000101\n",
    "print(x >> 2) # shift right  00000001 = 00000101 >> 2\n",
    "print(x << 2) # shift left   00010100 = 00000101 << 2"
   ]
  },
  {
   "cell_type": "markdown",
   "metadata": {},
   "source": [
    "## Assignment Operators"
   ]
  },
  {
   "cell_type": "code",
   "execution_count": 62,
   "metadata": {},
   "outputs": [
    {
     "name": "stdout",
     "output_type": "stream",
     "text": [
      "5\n",
      "20\n",
      "15\n",
      "75\n",
      "18.75\n",
      "4.75\n",
      "2.0\n",
      "32.0\n",
      "32\n",
      "37\n",
      "0\n",
      "5\n",
      "2\n",
      "64\n"
     ]
    }
   ],
   "source": [
    "# assignment operators\n",
    "x = 5      # x = 5          ->  5\n",
    "print(x)\n",
    "x += 15    # x = x + 15     -> 20\n",
    "print(x)\n",
    "x -= 5     # x = x - 5      -> 15\n",
    "print(x)\n",
    "x *= 5     # x = x * 5      -> 75\n",
    "print(x)\n",
    "x /= 4     # x = x / 4      -> 18.75\n",
    "print(x)\n",
    "x %= 7     # x = x % 7      ->  4.75\n",
    "print(x)\n",
    "x //= 2    # x = x // 5      ->  2.0\n",
    "print(x)\n",
    "x **= 5    # x = x ** 5      -> 32.0\n",
    "print(x)\n",
    "x = int(x) # need int for bitwise ops -> 32\n",
    "print(x)\n",
    "x |= 5     # x = x | 2       -> 37\n",
    "print(x)\n",
    "x &= 2     # x = x & 2       ->  0\n",
    "print(x)\n",
    "x ^= 5     # x = x ^ 2       ->  5\n",
    "print(x)\n",
    "x >>= 1    # x = x >> 1      ->  2 \n",
    "print(x)\n",
    "x <<= 5    # x = x << 5      -> 64\n",
    "print(x)"
   ]
  },
  {
   "cell_type": "markdown",
   "metadata": {
    "collapsed": true
   },
   "source": [
    "## Identity Operators\n",
    "\n",
    "**is** True only if the operands are identical (refer to the same object)  \n",
    "**is not** True only if the operands are not identical (do not refer to the same object)  "
   ]
  },
  {
   "cell_type": "code",
   "execution_count": 82,
   "metadata": {},
   "outputs": [
    {
     "name": "stdout",
     "output_type": "stream",
     "text": [
      "True\n",
      "False\n",
      "True\n",
      "False\n",
      "True\n",
      "False\n",
      "False\n",
      "True\n",
      "False\n",
      "True\n"
     ]
    }
   ],
   "source": [
    "x = 42\n",
    "y = 42 # equal and identical (pooling)\n",
    "print(x is y)      # True\n",
    "print(x is not y)  # False\n",
    "\n",
    "x = 'Hello'\n",
    "y = 'Hello' # equal and identical (pooling)\n",
    "print(x is y)      # True\n",
    "print(x is not y)  # False\n",
    "\n",
    "x = 'Hello'\n",
    "y = \"Hel\" + \"lo\" # equal and identical (pooling)\n",
    "print(x is y)      # True\n",
    "print(x is not y)  # False\n",
    "\n",
    "x = 'Hello'\n",
    "z1 = \"Hel\"\n",
    "z2 = \"lo\"\n",
    "y = z1 + z2        # equal but not identical (no pooling)\n",
    "print(x is y)      # False\n",
    "print(x is not y)  # True\n",
    "\n",
    "x = [1,2,3]\n",
    "y = [1,2,3] # equal but not identical (no pooling)\n",
    "\n",
    "print(x is y)      # False\n",
    "print(x is not y)  # True\n"
   ]
  },
  {
   "cell_type": "markdown",
   "metadata": {
    "collapsed": true
   },
   "source": [
    "## Membership Operators\n",
    "\n",
    "**in** True only if value/variable is found in sequence\n",
    "**not in** True if value/variable is not found in sequence"
   ]
  },
  {
   "cell_type": "code",
   "execution_count": 84,
   "metadata": {},
   "outputs": [
    {
     "name": "stdout",
     "output_type": "stream",
     "text": [
      "True\n",
      "True\n",
      "True\n",
      "False\n"
     ]
    }
   ],
   "source": [
    "x = 'Hello world'\n",
    "y = {1:'a', 2:'b'}\n",
    "\n",
    "print('H' in x)          # True\n",
    "print('hello' not in x)  # True\n",
    "print(1 in y)            # True\n",
    "print('a' in y)          # False"
   ]
  },
  {
   "cell_type": "code",
   "execution_count": null,
   "metadata": {
    "collapsed": true
   },
   "outputs": [],
   "source": []
  },
  {
   "cell_type": "markdown",
   "metadata": {},
   "source": [
    "## Mutable and Immutable Types"
   ]
  },
  {
   "cell_type": "code",
   "execution_count": null,
   "metadata": {},
   "outputs": [],
   "source": []
  },
  {
   "cell_type": "markdown",
   "metadata": {
    "collapsed": true
   },
   "source": [
    "## Line Continuation"
   ]
  },
  {
   "cell_type": "code",
   "execution_count": null,
   "metadata": {
    "collapsed": true
   },
   "outputs": [],
   "source": []
  },
  {
   "cell_type": "code",
   "execution_count": null,
   "metadata": {
    "collapsed": true
   },
   "outputs": [],
   "source": [
    "## Default Arguments"
   ]
  },
  {
   "cell_type": "code",
   "execution_count": null,
   "metadata": {
    "collapsed": true
   },
   "outputs": [],
   "source": []
  },
  {
   "cell_type": "code",
   "execution_count": null,
   "metadata": {
    "collapsed": true
   },
   "outputs": [],
   "source": [
    "## Read From a File"
   ]
  },
  {
   "cell_type": "code",
   "execution_count": null,
   "metadata": {
    "collapsed": true
   },
   "outputs": [],
   "source": []
  },
  {
   "cell_type": "markdown",
   "metadata": {},
   "source": [
    "## Modules and Packages"
   ]
  },
  {
   "cell_type": "code",
   "execution_count": null,
   "metadata": {
    "collapsed": true
   },
   "outputs": [],
   "source": []
  },
  {
   "cell_type": "markdown",
   "metadata": {},
   "source": [
    "## Decorators"
   ]
  },
  {
   "cell_type": "code",
   "execution_count": null,
   "metadata": {
    "collapsed": true
   },
   "outputs": [],
   "source": []
  },
  {
   "cell_type": "markdown",
   "metadata": {},
   "source": [
    "## Context Managers"
   ]
  },
  {
   "cell_type": "code",
   "execution_count": null,
   "metadata": {
    "collapsed": true
   },
   "outputs": [],
   "source": []
  }
 ],
 "metadata": {
  "kernelspec": {
   "display_name": "Python 3",
   "language": "python",
   "name": "python3"
  },
  "language_info": {
   "codemirror_mode": {
    "name": "ipython",
    "version": 3
   },
   "file_extension": ".py",
   "mimetype": "text/x-python",
   "name": "python",
   "nbconvert_exporter": "python",
   "pygments_lexer": "ipython3",
   "version": "3.6.3"
  }
 },
 "nbformat": 4,
 "nbformat_minor": 2
}

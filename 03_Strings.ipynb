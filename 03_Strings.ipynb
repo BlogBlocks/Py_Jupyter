{
 "cells": [
  {
   "cell_type": "markdown",
   "metadata": {},
   "source": [
    "# 03 Strings"
   ]
  },
  {
   "cell_type": "markdown",
   "metadata": {},
   "source": [
    "## Single, Double and Triple Quoted Strings"
   ]
  },
  {
   "cell_type": "code",
   "execution_count": 9,
   "metadata": {},
   "outputs": [
    {
     "name": "stdout",
     "output_type": "stream",
     "text": [
      "Single Quoted String\n",
      "\n",
      "Double Quoted String\n",
      "\n",
      "Triple Quoted String:\n",
      "The sun was shining on the sea,\n",
      "Shining with all his might:\n",
      "He did his very best to make\n",
      "The billows smooth and bright--\n",
      "And this was odd, because it was\n",
      "The middle of the night.\n",
      "\n",
      "\n"
     ]
    }
   ],
   "source": [
    "x = 'Single Quoted String\\n'\n",
    "print(x)\n",
    "\n",
    "\n",
    "x = \"Double Quoted String\\n\"\n",
    "print(x)\n",
    "\n",
    "x = '''Triple Quoted String:\n",
    "The sun was shining on the sea,\n",
    "Shining with all his might:\n",
    "He did his very best to make\n",
    "The billows smooth and bright--\n",
    "And this was odd, because it was\n",
    "The middle of the night.\\n'''\n",
    "print(x)\n",
    "print()"
   ]
  },
  {
   "cell_type": "code",
   "execution_count": null,
   "metadata": {
    "collapsed": true
   },
   "outputs": [],
   "source": []
  }
 ],
 "metadata": {
  "kernelspec": {
   "display_name": "Python 3",
   "language": "python",
   "name": "python3"
  },
  "language_info": {
   "codemirror_mode": {
    "name": "ipython",
    "version": 3
   },
   "file_extension": ".py",
   "mimetype": "text/x-python",
   "name": "python",
   "nbconvert_exporter": "python",
   "pygments_lexer": "ipython3",
   "version": "3.6.3"
  }
 },
 "nbformat": 4,
 "nbformat_minor": 2
}
